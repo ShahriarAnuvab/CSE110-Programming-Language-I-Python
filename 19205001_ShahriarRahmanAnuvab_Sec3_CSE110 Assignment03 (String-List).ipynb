{
 "cells": [
  {
   "cell_type": "markdown",
   "metadata": {
    "id": "xDNsncrtU1yM"
   },
   "source": [
    "# CSE110 Assignment 3\n",
    "\n"
   ]
  },
  {
   "cell_type": "markdown",
   "metadata": {
    "id": "gh4GUDaIU1yO"
   },
   "source": [
    "\n",
    "## Write the Python code of the following problems:\n",
    "\n",
    "**<font color='red'>[MUST MAINTAIN VARIABLE NAMING CONVENTIONS FOR ALL THE TASKS]</font>**\n",
    "\n",
    "## Part 1: String\n",
    "\n",
    "\n",
    "\n"
   ]
  },
  {
   "cell_type": "markdown",
   "metadata": {
    "id": "KD4EKJf6U1yQ"
   },
   "source": [
    "### Task 1 \n",
    "\n",
    "Write a Python program that will ask the user to input a string (containing exactly one word). Then your program should print a subsequent substring of the given string.\n",
    "\n",
    "=====================================================================\n",
    "\n",
    "**Example1:**\\\n",
    "Input: BANGLA\\\n",
    "Output:\\\n",
    "B\\\n",
    "BA\\\n",
    "BAN\\\n",
    "BANG\\\n",
    "BANGL\\\n",
    "BANGLA\n",
    "\n",
    "=====================================================================\n",
    "\n",
    "**Example2:**\\\n",
    "Input: DREAM\\\n",
    "Output:\\\n",
    "D\\\n",
    "DR\\\n",
    "DRE\\\n",
    "DREA\\\n",
    "DREAM\n",
    "\n",
    "=====================================================================\n",
    "\n",
    "**Hints(1):** Need to use \"for loop\" for this task.\n",
    "\n",
    "**Hints(2):** Need to use print() function for printing newlines.\n",
    "\n",
    "For example:\\\n",
    "print(1)\\\n",
    "print(2)\n",
    "\n",
    "Output:\\\n",
    "1\\\n",
    "2\n",
    "\n",
    "=====================================================================\n",
    "\n",
    "We need use print(end = \"\") to skip printing the additional newline.\n",
    "\n",
    "For example:\\\n",
    "print(1, end =\" \")\\\n",
    "print(2)\n",
    "\n",
    "Output:(prints the next output right to the previous one)\\\n",
    "12\n",
    "\n",
    "=====================================================================\n",
    "\n",
    "\n",
    "\n",
    "\n"
   ]
  },
  {
   "cell_type": "code",
   "execution_count": 3,
   "metadata": {
    "id": "vJhpmj2XU1yR"
   },
   "outputs": [
    {
     "name": "stdout",
     "output_type": "stream",
     "text": [
      "Enter a word: BANGLA\n",
      "B\n",
      "BA\n",
      "BAN\n",
      "BANG\n",
      "BANGL\n",
      "BANGLA\n"
     ]
    }
   ],
   "source": [
    "w = input(\"Enter a word: \")\n",
    "for i in range(0,len(w)):\n",
    "    for j in range(0,i+1):\n",
    "        print(w[j], end='')\n",
    "    print('')\n",
    "        "
   ]
  },
  {
   "cell_type": "markdown",
   "metadata": {
    "id": "pbdeIVcyU1yi"
   },
   "source": [
    "### Task2\n",
    "\n",
    "Write a Python program that will ask the user to enter a  word as an input. \n",
    "\n",
    "* If the length of the input string is less than 4, then your program should print the same string as an output. \n",
    "* If the input string’s length is greater than 3, then your program should add \"er\" at the end of the input string. \n",
    "* If the input string already ends with \"er\", then add \"est\" instead. \n",
    "* If the input string already ends with \"est\", then your program should print the same input string as an output.\n",
    "\n",
    "=====================================================================\n",
    "\n",
    "**Example 1:**\\\n",
    "Input: strong\\\n",
    "Output: stronger\n",
    "\n",
    "=====================================================================\n",
    "\n",
    "**Example 2:**\\\n",
    "Input: stronger\\\n",
    "Output: strongest\n",
    "\n",
    "=====================================================================\n",
    "\n",
    "**Example 3:**\\\n",
    "Input: strongest\\\n",
    "Output: strongest\n",
    "\n",
    "=====================================================================\n",
    "\n",
    "**Example 4:**\\\n",
    "Input: abc\\\n",
    "Output: abc\n"
   ]
  },
  {
   "cell_type": "code",
   "execution_count": 12,
   "metadata": {
    "id": "A5df9pmJU1yj"
   },
   "outputs": [
    {
     "name": "stdout",
     "output_type": "stream",
     "text": [
      "Enter a word: Strong\n",
      "Stronger\n"
     ]
    }
   ],
   "source": [
    "w =input('Enter a word: ')\n",
    "l=len(w)\n",
    "\n",
    "if(l<4):\n",
    "    print(w)\n",
    "else:\n",
    "    if(w.endswith('er')==True):\n",
    "        print(w[:-2]+'est')\n",
    "   \n",
    "    elif(w.endswith('est')==True):\n",
    "        print(w)\n",
    "    \n",
    "    else:\n",
    "        print(w+'er')"
   ]
  },
  {
   "cell_type": "markdown",
   "metadata": {
    "id": "PsBbgc4YU1yp"
   },
   "source": [
    "### Task3\n",
    "\n",
    "Write a Python program that will ask the user to input a string (containing exactly one word). Then print code for each character in the String using the ord() function. Use any means necessary.\n",
    "\n",
    "To check if your program is working correctly or not, you can find a list of all correct values from the following website. Look at “Dec” and “Char” columns only, ignore other columns.\\\n",
    "link: http://www.asciitable.com/\n",
    "\n",
    "=====================================================================\n",
    "\n",
    "**Example 1:**\\\n",
    "Input: Programming\\\n",
    "Output:\\\n",
    "P : 80\\\n",
    "r : 114\\\n",
    "o : 111\\\n",
    "g : 103\\\n",
    "r : 114\\\n",
    "a : 97\\\n",
    "m : 109\\\n",
    "m : 109\\\n",
    "i : 105\\\n",
    "n : 110\\\n",
    "g : 103\n",
    "\n",
    "=====================================================================\n",
    "\n",
    "**Example 2:**\\\n",
    "Input: hunger\\\n",
    "Output:\\\n",
    "h : 104\\\n",
    "u : 117\\\n",
    "n : 110\\\n",
    "g : 103\\\n",
    "e : 101\\\n",
    "r : 114 "
   ]
  },
  {
   "cell_type": "code",
   "execution_count": 14,
   "metadata": {
    "id": "r8by7ONZU1ys"
   },
   "outputs": [
    {
     "name": "stdout",
     "output_type": "stream",
     "text": [
      "Enter a word: hunger\n",
      "h  :  104\n",
      "u  :  117\n",
      "n  :  110\n",
      "g  :  103\n",
      "e  :  101\n",
      "r  :  114\n"
     ]
    }
   ],
   "source": [
    "w = input(\"Enter a word: \")\n",
    "\n",
    "for i in range(0, len(w)):\n",
    "    print(w[i],' : ', ord(w[i]))"
   ]
  },
  {
   "cell_type": "markdown",
   "metadata": {
    "id": "O8lIVppgU1yw"
   },
   "source": [
    "### Task4\n",
    "\n",
    "Given a word as input in small letters, print the next alphabet in sequence for each alphabet found in the input.\n",
    "\n",
    "=====================================================================\n",
    "\n",
    "\n",
    "*Hint: You need to use functions ord() and chr(). The ASCII value of ‘a’ is 97 and ‘z’ is 122.*\n",
    "\n",
    "=====================================================================\n",
    "\n",
    "**Example1:**\\\n",
    "Input: abcd\\\n",
    "Output: bcde\n",
    "\n",
    "**Example2:**\\\n",
    "Input: the cow\\\n",
    "Output: uif!dpx\n",
    "\n",
    "**Example3: <font color='red'>[Must fulfil this criteria]</font>**\\\n",
    "Input: xyzabc\\\n",
    "Output: yzabcd\n",
    "\n",
    "\n"
   ]
  },
  {
   "cell_type": "code",
   "execution_count": 19,
   "metadata": {
    "id": "Hyvy8WNNU1yx"
   },
   "outputs": [
    {
     "name": "stdout",
     "output_type": "stream",
     "text": [
      "Enter a word in smaller letter: xyzabc\n",
      "yzabcd"
     ]
    }
   ],
   "source": [
    "w = input(\"Enter a word in smaller letter: \")\n",
    "w = w.lower()\n",
    "\n",
    "for i in range(0,len(w)):\n",
    "    if(w[i]=='z'):\n",
    "        print('a', end='')\n",
    "    else:\n",
    "        print(chr(ord(w[i])+1),end='')"
   ]
  },
  {
   "cell_type": "markdown",
   "metadata": {
    "id": "leVtdAsdymXM"
   },
   "source": [
    "### Task 5\n",
    "\n",
    "Write a Python program that will ask the user to enter two strings (s1, s2) as an input. Then create a mixed string with alternative characters from each string. Any leftover chars will be appended at the end of the result string.\n",
    "\n",
    "=====================================================================\n",
    "\n",
    "*Hint: For adding the leftover characters use string slicing.*\n",
    "\n",
    "=====================================================================\n",
    "\n",
    "**Example 1:**\\\n",
    "Input:\\\n",
    "\"ABCD\"\\\n",
    "\"efgh\"\n",
    "\n",
    "Output:\\\n",
    "AeBfCgDh\n",
    "\n",
    "=====================================================================\n",
    "\n",
    "**Example 2:**\\\n",
    "Input:\\\n",
    "\"ABCDENDFGH\"\\\n",
    "\"ijkl\"\n",
    "\n",
    "Output:\\\n",
    "AiBjCkDlENDFGH\n",
    "\n",
    "=====================================================================\n",
    "\n",
    "**Example 3:**\\\n",
    "Input:\\\n",
    "\"ijkl\"\\\n",
    "\"ABCDENDFGH\"\n",
    "\n",
    "Output:\\\n",
    "iAjBkClDENDFGH\n",
    "\n",
    "=====================================================================\n",
    "\n",
    "\n",
    "\n",
    "\n"
   ]
  },
  {
   "cell_type": "code",
   "execution_count": 20,
   "metadata": {
    "id": "kC1cq47myny6"
   },
   "outputs": [
    {
     "name": "stdout",
     "output_type": "stream",
     "text": [
      "Enter S1 String: ijkl\n",
      "Enter S2 String: ABCDEFGH\n",
      "iAjBkClDEFGH\n"
     ]
    }
   ],
   "source": [
    "s1 = input(\"Enter S1 String: \")\n",
    "s2 = input(\"Enter S2 String: \")\n",
    "\n",
    "lengthS1 = len(s1)\n",
    "lengthS2 = len(s2)\n",
    "mixed = ''\n",
    "if(lengthS1>lengthS2):\n",
    "    l=lengthS1\n",
    "else:\n",
    "    l=lengthS2\n",
    "    \n",
    "for i in range(0,l):\n",
    "    if(i<lengthS1 and i<lengthS2):\n",
    "        mixed= mixed+s1[i]\n",
    "        mixed= mixed + s2[i]\n",
    "    else:\n",
    "        if(lengthS1>lengthS2):\n",
    "            mixed = mixed+s1[i]\n",
    "        else:\n",
    "            mixed = mixed+s2[i]\n",
    "        \n",
    "print(mixed)"
   ]
  },
  {
   "cell_type": "markdown",
   "metadata": {
    "id": "AWQJrJW3U1y3"
   },
   "source": [
    "### Task6\n",
    "Given a string, create a new string with all the consecutive duplicates **removed**. \n",
    "\n",
    "=====================================================================\n",
    "\n",
    "**Hint:** You need to make a new string to store your answer. Check whether the current character and the next character are the same, then add that character to the answer.\n",
    "\n",
    "=====================================================================\n",
    "\n",
    "**Example:**\\\n",
    "**Input**:\\\n",
    "AAABBBBCDDBBECE\\\n",
    "**Output:**\\\n",
    "ABCDBECE\n",
    "\n",
    "\n",
    "\n"
   ]
  },
  {
   "cell_type": "code",
   "execution_count": 24,
   "metadata": {
    "id": "oNv_JNgUU1y4"
   },
   "outputs": [
    {
     "name": "stdout",
     "output_type": "stream",
     "text": [
      "Enter a String: AAABBBBCDDBBECE\n",
      "ABCDBECE\n"
     ]
    }
   ],
   "source": [
    "s1 = input(\"Enter a String: \")\n",
    "s2=''\n",
    "seen=s1[0]\n",
    "s2=s1[0]\n",
    "\n",
    "for i in range(1,len(s1)):\n",
    "    if(s1[i]!=seen):\n",
    "        s2=s2+s1[i]\n",
    "        seen=s1[i]\n",
    "                      \n",
    "print(s2)\n"
   ]
  },
  {
   "cell_type": "markdown",
   "metadata": {
    "id": "ptcRoNgKzG9-"
   },
   "source": [
    "### Task7\n",
    "\n",
    "Write a Python program that takes a string as an input from the user. Then checks whether the input is a palindrome or Not.\n",
    "\n",
    "==========================================\n",
    "\n",
    "*Hints(1): Check the characters from the starting point and the ending point*\n",
    "\n",
    "==========================================\n",
    "\n",
    "**Sample Input**<br/>\n",
    "1235321<br/>\n",
    "\n",
    "**Sample Output**<br/>\n",
    "Palindrome<br/>\n",
    "\n",
    "\n",
    "==========================================\n",
    "\n",
    "**Sample Input**<br/>\n",
    "1233521<br/>\n",
    "\n",
    "**Sample Output**<br/>\n",
    "Not a Palindrome<br/>\n",
    "\n",
    "==========================================\n",
    "\n",
    "**Sample Input**<br/>\n",
    "abcba<br/>\n",
    "\n",
    "**Sample Output**<br/>\n",
    "Palindrome<br/>\n"
   ]
  },
  {
   "cell_type": "code",
   "execution_count": 26,
   "metadata": {
    "id": "v0DzroXdzNeM"
   },
   "outputs": [
    {
     "name": "stdout",
     "output_type": "stream",
     "text": [
      "Enter a String : 1233521\n",
      "Not a Palindrome\n"
     ]
    }
   ],
   "source": [
    "s = input(\"Enter a String : \")\n",
    "\n",
    "rev = s[::-1]\n",
    "\n",
    "if(s==rev):\n",
    "    print(\"Palindrome\")\n",
    "    \n",
    "else:\n",
    "    print(\"Not a Palindrome\")"
   ]
  },
  {
   "cell_type": "markdown",
   "metadata": {
    "id": "vHRyG1W3zOBU"
   },
   "source": [
    "### Task8\n",
    "\n",
    "Write a Python program that takes a string as an input from the user. Then checks whether the input is a number, word or mixed with digit and letters. \n",
    "\n",
    "* If all the characters are numeric values, print NUMBER. \n",
    "* If they are all letters, print WORD. \n",
    "* If it is mixed, print MIXED.\n",
    "\n",
    "\n",
    "==========================================\n",
    "\n",
    "*Hints: need to take all the alphabets in either uppercase or lower case. Flags/counters can be used to check the different categorories*\n",
    "\n",
    "==========================================\n",
    "\n",
    "**Sample Input**\n",
    "213213\n",
    "\n",
    "**Sample Output**\n",
    "NUMBER\n",
    "\n",
    "\n",
    "==========================================\n",
    "\n",
    "**Sample Input**\n",
    "jhg231j213\n",
    "\n",
    "**Sample Output**\n",
    "MIXED\n",
    "\n",
    "==========================================\n",
    "\n",
    "**Sample Input**\n",
    "Hello\n",
    "\n",
    "**Sample Output**\n",
    "WORD\n"
   ]
  },
  {
   "cell_type": "code",
   "execution_count": 28,
   "metadata": {
    "id": "jRMkFIk20hwL"
   },
   "outputs": [
    {
     "name": "stdout",
     "output_type": "stream",
     "text": [
      "Enter a String: Hello\n",
      "WORD\n"
     ]
    }
   ],
   "source": [
    "s = input(\"Enter a String: \")\n",
    "\n",
    "if(s.isnumeric()==True):\n",
    "    print(\"NUMBER\")\n",
    "elif(s.isalpha()==True):\n",
    "    print(\"WORD\")\n",
    "    \n",
    "else:\n",
    "    print(\"MIXED\")"
   ]
  },
  {
   "cell_type": "markdown",
   "metadata": {
    "id": "4zI6tmFN0i4y"
   },
   "source": [
    "### Task09\n",
    "\n",
    "Write a python program that takes 2 inputs from the user, where the first input is a string with length greater than 1. The second input is the index of the first given string from where you have to start reversing. Then print the new string back to the user.\n",
    "\n",
    "========================================\n",
    "\n",
    "**Sample Input**<br/>\n",
    "72418, 4<br/>\n",
    "**Sample Output**<br/>\n",
    "81427<br/>\n",
    "\n",
    "\n",
    "========================================\n",
    "\n",
    "**Sample Input**<br/>\n",
    "12345, 2<br/>\n",
    "**Sample Output**<br/>\n",
    "32145<br/>\n",
    "\n",
    "========================================\n",
    "\n",
    "**Sample Input**<br/>\n",
    "aBcd1234defg, 5<br/>\n",
    "**Sample Output**<br/>\n",
    "21dcBa34defg<br/>"
   ]
  },
  {
   "cell_type": "code",
   "execution_count": 31,
   "metadata": {
    "id": "lModRb2L0oqS"
   },
   "outputs": [
    {
     "name": "stdout",
     "output_type": "stream",
     "text": [
      "Enter a String: aBcd1234defg\n",
      "Enter the index value: 5\n",
      "21dcBa34defg\n"
     ]
    }
   ],
   "source": [
    "s = input(\"Enter a String: \")\n",
    "index= int(input(\"Enter the index value: \"))\n",
    "\n",
    "rev=s[index::-1]\n",
    "print(rev,end='')\n",
    "print(s[index+1:])"
   ]
  },
  {
   "cell_type": "markdown",
   "metadata": {
    "id": "mwnPD6m-U1y9"
   },
   "source": [
    "## Part 2: List\n"
   ]
  },
  {
   "cell_type": "markdown",
   "metadata": {
    "id": "lPoDvm8YU1y9"
   },
   "source": [
    "### Task 10\n",
    "Write a Python program that reads 10 numbers from the user. After reading each number, print all the numbers that have been entered so far. \n",
    "\n",
    "**Example:**\\\n",
    "After the user enters 3, prints “So far in the list: [3]”\\\n",
    "After the user enters 5, prints “So far in the list: [3, 5]”\\\n",
    "After the user enters 34, prints “So far in the list: [3, 5, 34]”\\\n",
    ".... continues"
   ]
  },
  {
   "cell_type": "code",
   "execution_count": 35,
   "metadata": {
    "id": "z26BN9B3U1y_"
   },
   "outputs": [
    {
     "name": "stdout",
     "output_type": "stream",
     "text": [
      "Enter a Number:1\n",
      "So far in the list:  [1]\n",
      "Enter a Number:2\n",
      "So far in the list:  [1, 2]\n",
      "Enter a Number:3\n",
      "So far in the list:  [1, 2, 3]\n",
      "Enter a Number:4\n",
      "So far in the list:  [1, 2, 3, 4]\n",
      "Enter a Number:5\n",
      "So far in the list:  [1, 2, 3, 4, 5]\n",
      "Enter a Number:6\n",
      "So far in the list:  [1, 2, 3, 4, 5, 6]\n",
      "Enter a Number:7\n",
      "So far in the list:  [1, 2, 3, 4, 5, 6, 7]\n",
      "Enter a Number:8\n",
      "So far in the list:  [1, 2, 3, 4, 5, 6, 7, 8]\n",
      "Enter a Number:9\n",
      "So far in the list:  [1, 2, 3, 4, 5, 6, 7, 8, 9]\n",
      "Enter a Number:2\n",
      "So far in the list:  [1, 2, 3, 4, 5, 6, 7, 8, 9, 2]\n"
     ]
    }
   ],
   "source": [
    "list_l1=[]\n",
    "\n",
    "for i in range(0,10):\n",
    "    n=int(input(\"Enter a Number:\"))\n",
    "    list_l1.append(n)\n",
    "    print(\"So far in the list: \",list_l1)"
   ]
  },
  {
   "cell_type": "markdown",
   "metadata": {
    "id": "ZrjtT-I_U1zD"
   },
   "source": [
    "#### Task 11\n",
    "Assume, you have been given a list.\n",
    "\n",
    "a_list =  [10, 20, 24, 25, 26, 35, 70]\n",
    "\n",
    "Write a Python program that creates a new list excluding the first and last two elements of the given list and prints the new list. \n",
    "\n",
    "**Output:** [24, 25, 26]\n",
    "\n",
    "==========================================\n",
    "\n",
    "**Hint:**You need to use list slicing.\n"
   ]
  },
  {
   "cell_type": "code",
   "execution_count": 36,
   "metadata": {
    "id": "3r7Ripj7U1zE"
   },
   "outputs": [
    {
     "name": "stdout",
     "output_type": "stream",
     "text": [
      "[24, 25, 26]\n"
     ]
    }
   ],
   "source": [
    "a_list =  [10, 20, 24, 25, 26, 35, 70]\n",
    "new_list = a_list[2:-2]\n",
    "print(new_list)"
   ]
  },
  {
   "cell_type": "markdown",
   "metadata": {
    "id": "AWgZaBZCzmaM"
   },
   "source": [
    "### Task 12\n",
    "\n",
    "Write a python program that reads 5 numbers from the user, and then prints them in the reverse order.\n",
    "\n",
    "==========================================\n",
    "\n",
    "*Hint:You need to create a list to store the input numbers. Then use loop to print them in reverse order*\n",
    "\n",
    "\n",
    "==========================================\n",
    "\n",
    "**Sample Input**\n",
    "5, -5, 100, 1, 0\n",
    "\n",
    "**Sample Output**\\\n",
    "0\\\n",
    "1\\\n",
    "100\\\n",
    "-5\\\n",
    "5"
   ]
  },
  {
   "cell_type": "code",
   "execution_count": 9,
   "metadata": {
    "id": "ICW-03YOznTp"
   },
   "outputs": [
    {
     "name": "stdout",
     "output_type": "stream",
     "text": [
      "Enter a Number: 5\n",
      "Enter a Number: -5\n",
      "Enter a Number: 100\n",
      "Enter a Number: 1\n",
      "Enter a Number: 0\n",
      "0\n",
      "1\n",
      "100\n",
      "-5\n",
      "5\n"
     ]
    }
   ],
   "source": [
    "list_l1 = []\n",
    "\n",
    "for i in range(0,5):\n",
    "    n=int(input(\"Enter a Number: \"))\n",
    "    list_l1.append(n)\n",
    "    \n",
    "for j in range(len(list_l1)-1,-1,-1):\n",
    "    print(list_l1[j])"
   ]
  },
  {
   "cell_type": "markdown",
   "metadata": {
    "id": "7a_1pYjfU1zI"
   },
   "source": [
    "### Task 13\n",
    "Assume, you have been given two lists. \n",
    "\n",
    "list_one = [1, 2, 3, 4, 5, 6, 7, 8, 9]\\\n",
    "list_two = [10, 11, 12, -13, -14, -15, -16]\n",
    "\n",
    "Write a Python program that creates a new list with all the **even elements** of both of the given lists and prints the new list.\n",
    "\n",
    "\n",
    "**Output:** [2, 4, 6, 8, 10, 12, -14, -16]\n",
    "\n",
    "==========================================\n",
    "\n",
    "**Hint:** You need to create a third list to store the even elements of the given lists.\n",
    "\n"
   ]
  },
  {
   "cell_type": "code",
   "execution_count": 39,
   "metadata": {
    "id": "vToa7yazU1zI"
   },
   "outputs": [
    {
     "name": "stdout",
     "output_type": "stream",
     "text": [
      "[2, 4, 6, 8, 10, 12, -14, -16]\n"
     ]
    }
   ],
   "source": [
    "list_one = [1, 2, 3, 4, 5, 6, 7, 8, 9]\n",
    "list_two = [10, 11, 12, -13, -14, -15, -16]\n",
    "\n",
    "list_new = []\n",
    "\n",
    "for i in list_one:\n",
    "    if(i%2==0):\n",
    "        list_new.append(i)\n",
    "        \n",
    "for j in list_two:\n",
    "    if(j%2==0):\n",
    "        list_new.append(j)\n",
    "        \n",
    "print(list_new)"
   ]
  },
  {
   "cell_type": "markdown",
   "metadata": {
    "id": "QaD4hLn92EKT"
   },
   "source": [
    "### Task 14\n",
    "\n",
    "Write a Python program to print the elements in a given list **without the duplicates**.\n",
    "\n",
    "===================================================================\n",
    "\n",
    "*Hint:You need to create a third list to store the results. Use membership operators (in, not in) to make sure no duplicates are added.*\n",
    "\n",
    "===================================================================\n",
    "\n",
    "**Sample Input**<br/>\n",
    "0, 0, 1, 2, 3, 4, 4, 5, 6, 6, 6, 7, 8, 9, 4, 4<br/>\n",
    "\n",
    "\n",
    "**Sample Output**<br/>\n",
    "[0, 1, 2, 3, 4, 5, 6, 7, 8, 9]<br/>\n",
    "\n",
    "===================================================================\n",
    "\n",
    "**Sample Input**<br/>\n",
    "7, 7, 7, 1, 0, 3, 3, 55, 9<br/>\n",
    "\n",
    "\n",
    "**Sample Output**<br/>\n",
    "[7, 1, 0, 3, 55, 9]<br/>\n",
    "\n"
   ]
  },
  {
   "cell_type": "code",
   "execution_count": 7,
   "metadata": {
    "id": "EUbQbz5hU1zP"
   },
   "outputs": [
    {
     "name": "stdout",
     "output_type": "stream",
     "text": [
      "[0, 1, 2, 3, 4, 5, 6, 7, 8, 9]\n"
     ]
    }
   ],
   "source": [
    "list_l1=[0, 0, 1, 2, 3, 4, 4, 5, 6, 6, 6, 7, 8, 9, 4, 4]\n",
    "list_unique = [list_l1[0]]\n",
    "flag=0\n",
    "for i in range(1,len(list_l1)):\n",
    "    for j in range(0,i):\n",
    "        if(list_l1[i]==list_l1[j]):\n",
    "            flag=flag+1\n",
    "    if(flag==0):\n",
    "        list_unique.append(list_l1[i])\n",
    "    flag=0\n",
    "        \n",
    "print(list_unique)"
   ]
  },
  {
   "cell_type": "markdown",
   "metadata": {
    "id": "wfcSytFVU1zU"
   },
   "source": [
    "### Task 15\n",
    "\n",
    "Write a Python program that reads 5 numbers into a list and prints the largest number and its location on the list. <font color='red'>[You are not allowed to use the max(), sort(), sorted() function here]</font>\n",
    "\n",
    "==========================================\n",
    "\n",
    "**Hint:**\\\n",
    " Assume, the first input to be the largest value initially and the location of first input which is 0 to be the initial value of the largest value’s location.\n",
    "You need to be careful while printing the output. Depending on your code might need data conversion.\n",
    "\n",
    "==========================================\n",
    "\n",
    "\n",
    "**Example:**\\\n",
    "**Input:**\\\n",
    " 7, 13, 2, 10, 6\n",
    "\n",
    "**Output:**\\\n",
    "list: [7, 13, 2, 10, 6]\\\n",
    "Largest number 13 was found at location 1.\n",
    "\n",
    "\n"
   ]
  },
  {
   "cell_type": "code",
   "execution_count": 46,
   "metadata": {
    "id": "kXbEh1t3U1zV"
   },
   "outputs": [
    {
     "name": "stdout",
     "output_type": "stream",
     "text": [
      "Enter a Number: 7\n",
      "Enter a Number: 13\n",
      "Enter a Number: 2\n",
      "Enter a Number: 10\n",
      "Enter a Number: 6\n",
      "list: [7, 13, 2, 10, 6]\n",
      "Largest number 13 was found at location 1\n"
     ]
    }
   ],
   "source": [
    "list_l1=[]\n",
    "for i in range(0,5):\n",
    "    n=int(input(\"Enter a Number: \"))\n",
    "    list_l1.append(n)\n",
    "    \n",
    "max=list_l1[0]\n",
    "\n",
    "for j in list_l1:\n",
    "    if(j>max):\n",
    "        max=j\n",
    "index=list_l1.index(max)\n",
    "\n",
    "print(\"list:\",list_l1)\n",
    "print(\"Largest number\",max,\"was found at location\",index)"
   ]
  },
  {
   "cell_type": "markdown",
   "metadata": {
    "id": "WZXnxHTdGrMC"
   },
   "source": [
    "## Optional Tasks (16-20) [Ungraded]"
   ]
  },
  {
   "cell_type": "markdown",
   "metadata": {
    "id": "lvSiLaobU1zY"
   },
   "source": [
    "### Task 16\n",
    "\n",
    "Write a Python program that reads 5 numbers into a list and prints the smallest and largest number and their location in the list. <font color='red'>[You are not allowed to use the max(), min(), sort(), sorted() functions here]</font>\n",
    "\n",
    "==========================================\n",
    "\n",
    "**Hint:**\\\n",
    " Assume, the first input to be the largest value and the location of the first input which is 0 to be the initial value of the largest value’s location. Similarly, assume the first input to be the smallest value and the location of the first input which is 0 to be the initial value of the smallest value’s location.\n",
    "You need to be careful while printing the output. Depending on your code might need data conversion.\n",
    "\n",
    "==========================================\n",
    "\n",
    "**Example:**\n",
    "\n",
    "**Input:**\\\n",
    "7, 13, -5, 10, 6\n",
    "\n",
    "**Output:**\\\n",
    "List: [7, 13, -5, 10, 6]\\\n",
    "Smallest number -5 was found at location 2\\\n",
    "Largest number 13 was found at location 1\n",
    "\n",
    "\n"
   ]
  },
  {
   "cell_type": "code",
   "execution_count": 1,
   "metadata": {
    "id": "yiS5TWSDU1zY"
   },
   "outputs": [
    {
     "name": "stdout",
     "output_type": "stream",
     "text": [
      "Enter the value of list_l1[ 0 ]: 7\n",
      "Enter the value of list_l1[ 1 ]: 13\n",
      "Enter the value of list_l1[ 2 ]: -5\n",
      "Enter the value of list_l1[ 3 ]: 10\n",
      "Enter the value of list_l1[ 4 ]: 6\n",
      "List :  [7, 13, -5, 10, 6]\n",
      "Smallest Number -5 was found at location 2\n",
      "Largest Number  13 was found at location 1\n"
     ]
    }
   ],
   "source": [
    "list_l1=[]\n",
    "for i in range(0,5):\n",
    "  print(\"Enter the value of list_l1[\",i,']: ',end='')\n",
    "  n=int(input())\n",
    "  list_l1.append(n)\n",
    "print(\"List : \",list_l1)\n",
    "\n",
    "max=list_l1[0]\n",
    "min=list_l1[0]\n",
    "for j in range(0,len(list_l1)):\n",
    "  if(list_l1[j]>max):\n",
    "    indexl=j\n",
    "    max=list_l1[j]\n",
    "  if(list_l1[j]<min):\n",
    "    indexs=j\n",
    "    min=list_l1[j]\n",
    "\n",
    "    \n",
    "print(\"Smallest Number\",min,\"was found at location\",indexs)\n",
    "print(\"Largest Number \",max,\"was found at location\",indexl)"
   ]
  },
  {
   "cell_type": "markdown",
   "metadata": {
    "id": "nwRZ3_0tC3fq"
   },
   "source": [
    "### Task17\n",
    "\n",
    "\n",
    "Write a python program that takes a string as an input from the user. Then modifies the string in such a way that the string always starts with an uppercase letter and the case of each subsequent letter is the opposite of the previous letter.  Then finally prints back the the modified string to the user.\n",
    "\n",
    "\n",
    "==========================================\n",
    "\n",
    "**Sample Input**\\\n",
    "Python programming is very easy\n",
    "\n",
    "**Sample Output**\\\n",
    "PyThOn PrOgRaMmInG iS vErY eAsY\n",
    "\n",
    "==========================================\n",
    "\n",
    "**Sample Input**\\\n",
    "I&nbsp;&nbsp;&nbsp;&nbsp;&nbsp;&nbsp;     love       &nbsp;&nbsp;&nbsp;&nbsp;&nbsp;&nbsp;&nbsp; Python &nbsp;&nbsp;&nbsp;&nbsp;&nbsp;&nbsp;&nbsp;&nbsp;Programming\n",
    "\n",
    "**Sample Output**\\\n",
    "I&nbsp;&nbsp;&nbsp;&nbsp;&nbsp;&nbsp;     lOvE       &nbsp;&nbsp;&nbsp;&nbsp;&nbsp;&nbsp;&nbsp;pYtHoN&nbsp;&nbsp;&nbsp;&nbsp;&nbsp;&nbsp;&nbsp;&nbsp;pRoGrAmMiNg\n",
    "\n",
    "==========================================\n",
    "\n",
    "**Sample Input**\\\n",
    "CSE110 Course\n",
    "\n",
    "**Sample Output**\\\n",
    "CsE110 cOuRsE\n",
    "\n",
    "\n",
    "\n",
    "==========================================\n",
    "\n",
    "**Sample Input**\\\n",
    "c\n",
    "\n",
    "**Sample Output**\\\n",
    "C\n",
    "\n",
    "\n"
   ]
  },
  {
   "cell_type": "code",
   "execution_count": 3,
   "metadata": {
    "id": "LEnaTlyoMJdS"
   },
   "outputs": [
    {
     "name": "stdout",
     "output_type": "stream",
     "text": [
      "Enter a String : Python programming is very easy\n",
      "PyThOn PrOgRaMmInG iS vErY eAsY"
     ]
    }
   ],
   "source": [
    "s = input(\"Enter a String : \")\n",
    "\n",
    "print(s[0].upper(),end='')\n",
    "s1=s.replace(\" \",\"\")\n",
    "count=0\n",
    "for i in range(1,len(s)):\n",
    "  if(s[i].isspace()):\n",
    "    print(\" \",end='')\n",
    "  elif(s[i].isnumeric()):\n",
    "    print(s[i],end='')\n",
    "\n",
    "  else:\n",
    "    count+=1\n",
    "    if(count%2==0):\n",
    "      print(s[i].upper(),end='')\n",
    "    else:\n",
    "      print(s[i].lower(),end='')\n"
   ]
  },
  {
   "cell_type": "markdown",
   "metadata": {
    "id": "EEkcqbIJBKel"
   },
   "source": [
    "### Task 18 \n",
    "An anagram is a play on words created by rearranging the letters of the original word to make a new word or phrase.\n",
    "So we can say two words are anagrams if they contain all of the same letters, but in a different order.\n",
    "\n",
    "\n",
    "Write a python program that takes two strings from the user and tells if they are anagram or not.\n",
    "\n",
    "===============================\n",
    "\n",
    "<b>Input 1 </b><br/>\n",
    "dusty<br/>\n",
    "study<br/>\n",
    "<b> Output 1 </b> <br/>\n",
    "They are anagram<br/>\n",
    "\n",
    "===============================\n",
    "\n",
    "<b> Input 2 </b><br/>\n",
    "dustyyy<br/>\n",
    "study<br/>\n",
    "<b> Output 2 </b><br/>\n",
    "They are not anagram"
   ]
  },
  {
   "cell_type": "code",
   "execution_count": 8,
   "metadata": {
    "id": "dvjY9pE2BLVT"
   },
   "outputs": [
    {
     "name": "stdout",
     "output_type": "stream",
     "text": [
      "Enter first String : dustyy\n",
      "Enter Second String : study\n",
      "they are not anagram\n"
     ]
    }
   ],
   "source": [
    "s1 = input(\"Enter first String : \")\n",
    "s2 = input(\"Enter Second String : \")\n",
    "count1=0\n",
    "count2=0\n",
    "for i in s1:\n",
    "  if (i in s2)==True:\n",
    "    count1+=1\n",
    "\n",
    "for j in s2:\n",
    "  if(j in s1)==True:\n",
    "    count2+=1\n",
    "if(count1==len(s1) and count2==len(s2)):\n",
    "  if(len(s1)==len(s2)):\n",
    "    print(\"They are anagram\")\n",
    "  else:\n",
    "    print(\"they are not anagram\")\n",
    "  \n",
    "else:\n",
    "  print(\"they are not anagram\")"
   ]
  },
  {
   "cell_type": "markdown",
   "metadata": {
    "id": "rguDZ8SBCHD8"
   },
   "source": [
    "### Task 19\n",
    "Write a Python program that takes two lists as an input from the user. Then print a new list with the **common elements** of both the input lists. \n",
    "\n",
    "=======================================\n",
    "\n",
    "*Hint:You need to create a third list to store the results. Use membership operators (in, not in) to make sure similar elements are added.*\n",
    "\n",
    "=======================================\n",
    "\n",
    "**Sample Input**<br/>\n",
    "A, B, C , D\n",
    "\n",
    "\n",
    "C, E , F, B\n",
    "\n",
    "\n",
    "**Sample Output**<br/>\n",
    "['C', 'B']\n",
    "\n",
    "=======================================\n",
    "\n",
    "**Sample Input**<br/>\n",
    "1, 3, A, H, P\n",
    "\n",
    "\n",
    "A, G, 1, P, O\n",
    "\n",
    "\n",
    "**Sample Output**<br/>\n",
    "['1', 'A', 'P']\n",
    "\n",
    "\n"
   ]
  },
  {
   "cell_type": "code",
   "execution_count": 2,
   "metadata": {
    "id": "3iueGiPPGG66"
   },
   "outputs": [
    {
     "name": "stdout",
     "output_type": "stream",
     "text": [
      "Enter 5 elements of list_l1\n",
      "1\n",
      "3\n",
      "A\n",
      "H\n",
      "P\n",
      "Enter 5 elements of list_l2\n",
      "A\n",
      "G\n",
      "1\n",
      "P\n",
      "O\n",
      "['1', 'A', 'P']\n"
     ]
    }
   ],
   "source": [
    "list_l1=[]\n",
    "list_l2=[]\n",
    "list_common=[]\n",
    "print(\"Enter 5 elements of list_l1\")\n",
    "for i in range(0,5):\n",
    "  n=input()\n",
    "  list_l1.append(n)\n",
    "print(\"Enter 5 elements of list_l2\")\n",
    "for i in range(0,5):\n",
    "  n1=input()\n",
    "  list_l2.append(n1)\n",
    "\n",
    "for k in list_l1:\n",
    "  if(k in list_l2):\n",
    "    list_common.append(k)\n",
    "\n",
    "print(list_common)\n"
   ]
  },
  {
   "cell_type": "markdown",
   "metadata": {
    "id": "tjcE5oitCM2s"
   },
   "source": [
    "### Task 20\n",
    "\n",
    "Assume, you have been given two lists.\n",
    "\n",
    "[Your program should work for any two given lists]\n",
    "\n",
    "list_one = [1, 2 , 3, 2, 4, 5, 5, 7, 99, 200, 303, 70]\\\n",
    "list_two = [1, 1, 2, 3, 3, 3, 4, 5, 200, 500, -5]\n",
    "\n",
    "Write a Python program that creates a new list with all the **unique elements** of both the given lists. \n",
    "<font color='red'> **You need to make sure that no duplicates are in the result list**</font> and then finally print the result list.\n",
    "\n",
    "**Output**: \n",
    "[1, 2, 4, 5, 7, 99, 200, 303, 70, 3, 500, -5]\n",
    "\n",
    "**Hint:**You need to create a third list to store the results. Use membership operators (in, not in) to make sure no duplicates are added.\n",
    "\n"
   ]
  },
  {
   "cell_type": "code",
   "execution_count": 1,
   "metadata": {
    "id": "b2TwkUqnGZU-"
   },
   "outputs": [
    {
     "name": "stdout",
     "output_type": "stream",
     "text": [
      "[1, 2, 3, 4, 5, 7, 99, 200, 303, 70, 500, -5]\n"
     ]
    }
   ],
   "source": [
    "list_one = [1, 2 , 3, 2, 4, 5, 5, 7, 99, 200, 303, 70]\n",
    "list_two = [1, 1, 2, 3, 3, 3, 4, 5, 200, 500, -5]\n",
    "\n",
    "list_one_unique = []\n",
    "for a in list_one:\n",
    "  if a not in list_one_unique:\n",
    "    list_one_unique.append(a)\n",
    "#print(list_one_unique)\n",
    "list_two_unique = []\n",
    "for b in list_two:\n",
    "  if b not in list_two_unique:\n",
    "    list_two_unique.append(b)\n",
    "#print(list_two_unique)\n",
    "\n",
    "list_new = list_one_unique+list_two_unique\n",
    "#print(list_new)\n",
    "\n",
    "list_new_unique = []\n",
    "for c in list_new:\n",
    "  if c not in list_new_unique:\n",
    "    list_new_unique.append(c)\n",
    "print(list_new_unique)"
   ]
  }
 ],
 "metadata": {
  "colab": {
   "collapsed_sections": [],
   "name": "CSE110 Assignment03 (String-List).ipynb",
   "provenance": []
  },
  "kernelspec": {
   "display_name": "Python 3",
   "language": "python",
   "name": "python3"
  },
  "language_info": {
   "codemirror_mode": {
    "name": "ipython",
    "version": 3
   },
   "file_extension": ".py",
   "mimetype": "text/x-python",
   "name": "python",
   "nbconvert_exporter": "python",
   "pygments_lexer": "ipython3",
   "version": "3.8.3"
  }
 },
 "nbformat": 4,
 "nbformat_minor": 1
}
