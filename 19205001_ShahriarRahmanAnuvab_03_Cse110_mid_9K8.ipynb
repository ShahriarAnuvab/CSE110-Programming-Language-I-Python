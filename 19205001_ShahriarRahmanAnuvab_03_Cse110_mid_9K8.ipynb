{
 "cells": [
  {
   "cell_type": "markdown",
   "metadata": {
    "id": "mRHB9cBf5D7V"
   },
   "source": [
    "# FALL 2020\n",
    "\n",
    "# CSE110 MIDTERM\n",
    "**<font color='red'>[MUST MAINTAIN VARIABLE NAMING CONVENTIONS FOR ALL THE TASKS]</font>**\n",
    "\n",
    "**<font color='red'>[Writing comments(explanatory sentences) in any of the code is completely optional]</font>**\n"
   ]
  },
  {
   "cell_type": "markdown",
   "metadata": {
    "id": "_uzpm0b85D7Z"
   },
   "source": [
    "### Task 1\n",
    "Write a python program that asks the user to give a movie’s budget and its total domestic and international collection. Input is taken in that order: budget, domestic collection, international collection. Then your program should calculate the profit of the movie. Then print the information according to the provided chart below. \n",
    "\n",
    "**Profit** | **Information to be printed**\n",
    "--- | ---\n",
    "No profit | Super flop movie!!\n",
    "Less than 500000 (5 lakh) | Flop movie! Waste of money. Waste of time.\n",
    "Greater than 5 lakh and less than 20 lakh | Average movie\n",
    "Above 20 lakh | Success!!\n",
    "Above 30 lakh | Super Hit!!!\n",
    "\n",
    "\n",
    "**Sample Input 1:** \\\n",
    "50000 \\\n",
    "1000000 \\\n",
    "800000 \\\n",
    "\n",
    "**Sample Output 1:**\\\n",
    "Profit: 1750000 \\\n",
    "Average movie \\\n",
    "\n",
    "**Explanation:**\\\n",
    "Budget = 50000, domestic collection= 1000000, international collection = 800000. \\\n",
    "Profit =  (1000000+ 800000)- 50000 = 1750000 which is Greater than 5 lakh and less than 20 lakh. So it shows “Average movie”\n",
    "\n",
    "================================================================================\n",
    "\n",
    "**Sample Input 2:** \\\n",
    "50000 \\\n",
    "1000 \\\n",
    "8000 \\\n",
    "\n",
    "**Sample Output 2:**\\\n",
    "Profit: No Profit \\\n",
    "Super flop movie!! \\\n",
    "\n",
    "\n",
    "**Explanation:**\\\n",
    "Budget = 50000, domestic collection= 1000, international collection = 8000. Profit =  (1000 +\n",
    "8000 ) - 50000 = -41000 which is less than 1. So it shows “Super flop movie!!”.\n"
   ]
  },
  {
   "cell_type": "code",
   "execution_count": 4,
   "metadata": {
    "id": "tMMBecSe5D7a"
   },
   "outputs": [
    {
     "name": "stdout",
     "output_type": "stream",
     "text": [
      "Enter Budget : 1000000\n",
      "Enter Domestic collection : 10000\n",
      "Enter International collection : 50000\n",
      "Profit: No Profit\n",
      "Super flop movie!!\n"
     ]
    }
   ],
   "source": [
    "budget = int(input(\"Enter Budget : \"))\n",
    "dom_collection = int(input(\"Enter Domestic collection : \"))\n",
    "int_collection = int(input(\"Enter International collection : \"))\n",
    "\n",
    "profit = (dom_collection+int_collection)-budget\n",
    "\n",
    "if(profit<=budget):\n",
    "    print(\"Profit:\",\"No Profit\")\n",
    "    print(\"Super flop movie!!\")\n",
    "elif(profit<500000):\n",
    "    print(\"Profit:\",profit)\n",
    "    print(\"Flop movie! Waste of money. Waste of time.\")\n",
    "elif(profit>500000 and profit<2000000):\n",
    "    print(\"Profit:\",profit)\n",
    "    print(\"Average movie\")\n",
    "elif(profit>=2000000 and profit<=3000000):\n",
    "    print(\"Profit:\",profit)\n",
    "    print(\"Successful!!\")\n",
    "else:\n",
    "    print(\"Profit:\",profit)\n",
    "    print(\"Super Hit!!!\")"
   ]
  },
  {
   "cell_type": "markdown",
   "metadata": {
    "id": "YFKgn6Yw5D7f"
   },
   "source": [
    "### Task 2\n",
    "Write a python program that asks the user to give 2 strings as inputs. The minimum length of the first input is 5 and the minimum length of the second input is 1. Assume, the length of the first string is always greater than the 2nd string. \n",
    "\n",
    "Your program should replace **every second character** (odd indexed characters) of the first input string with the second input string.\n",
    "\n",
    "<font color='red'>[You are not allowed to use the built-in replace() function of python]</font>\n",
    "\n",
    "=============================================================================\n",
    "\n",
    "**Sample Input 1:**\\\n",
    "abcde\\\n",
    "123\\\n",
    "**Sample Output 1:**\\\n",
    "a123c123e\n",
    "\n",
    "**Explanation:**\\\n",
    "Index of b is 1 and index of d is 3 (odd indexed characters). So, these are replaced with 123 (second input string)\n",
    "\n",
    "=============================================================================\n",
    "\n",
    "**Sample Input 2:**\\\n",
    "12345678\\\n",
    "b\\\n",
    "**Sample Output 2:**\\\n",
    "1b3b5b7b\n",
    "\n",
    "**Explanation:**\\\n",
    "Index of 2 is 1, index of 4 is 3, index of 6 is 5 and index of 8 is 7 (odd indexed characters). So these are replaced with b (second input string)"
   ]
  },
  {
   "cell_type": "code",
   "execution_count": 52,
   "metadata": {
    "id": "J4ab_IeA5D7g"
   },
   "outputs": [
    {
     "name": "stdout",
     "output_type": "stream",
     "text": [
      "Enter a String minimum length 5: abcde\n",
      "Enter a String minimum length 1: 123\n",
      "a123c123e\n"
     ]
    }
   ],
   "source": [
    "s1 = input(\"Enter a String minimum length 5: \")\n",
    "s2 = input(\"Enter a String minimum length 1: \")\n",
    "s3=\"\"\n",
    "\n",
    "for j in range(0,len(s1)):\n",
    "    if(j%2==0):\n",
    "        s3=s3+s1[j]\n",
    "if(len(s1)%2!=0):\n",
    "    for i in range(len(s3)-1):\n",
    "        print(s3[i]+s2,end='')\n",
    "    print(s3[len(s3)-1])\n",
    "else:\n",
    "    for i in range(len(s3)):\n",
    "        print(s3[i]+s2,end='')\n"
   ]
  },
  {
   "cell_type": "markdown",
   "metadata": {
    "id": "rDY_xNcO5D7k"
   },
   "source": [
    "### Task 3\n",
    "Write a Python program that takes a list and a step size(integer number) as inputs from the user. Your program should swap elements from the front and back while maintaining the step size.\n",
    "\n",
    "===============================================================================\n",
    "\n",
    "**Sample Input 1:**\\\n",
    "['A','B', 'C', 'D', 'E', 'F','G','H']\\\n",
    "2\\\n",
    "**Sample Output 1:**\\\n",
    "Before swap: ['A', 'B', 'C', 'D', 'E', 'F', 'G', 'H']\\\n",
    "After swap: ['H', 'B', 'F', 'D', 'E', 'C', 'G', 'A']\n",
    "\n",
    "**Explanation:** Here in the input, a list is given as input, and 2 is the step size. ‘A’(index0)  swaps places with ‘H’(index -1). Then step size increments by 2. 0+2= 2. Swapping starts from index2. ‘C’(index2) swaps places with ‘F’(index -3).\n",
    "\n",
    "===============================================================================\n",
    "\n",
    "\n",
    "**Sample Input 2:**\\\n",
    "['A','B', 'C', 'D', 'E', 'F','G','H']\\\n",
    "5\\\n",
    "**Sample Output 2:**\\\n",
    "Step size is not suitable\n",
    "\n",
    "**Explanation:** Here in the input, a list is given as input, and 5 is the step size which is greater than half of the list length. So swapping is not possible.\n",
    "\n"
   ]
  },
  {
   "cell_type": "code",
   "execution_count": 69,
   "metadata": {
    "id": "2roUcNrC5D7l"
   },
   "outputs": [
    {
     "name": "stdout",
     "output_type": "stream",
     "text": [
      "Enter step size: 2\n",
      "['H', 'B', 'F', 'D', 'D', 'F', 'B', 'H']\n"
     ]
    }
   ],
   "source": [
    "list_1 = ['A','B', 'C', 'D', 'E', 'F','G','H']\n",
    "n = int(input(\"Enter step size: \"))\n",
    "list_2=[]\n",
    "count=1\n",
    "count2=len(list_1)-1\n",
    "list_2=[]\n",
    "for i in range(0,len(list_1)):\n",
    "    if(i%2==0):\n",
    "        if(count2>count2//2):\n",
    "            list_2.append(list_1[count2])\n",
    "            count2-=2\n",
    "    else:\n",
    "        list_2.append(list_1[i])\n",
    "\n",
    "print(list_2)\n"
   ]
  }
 ],
 "metadata": {
  "colab": {
   "collapsed_sections": [],
   "name": "set03_MSI.ipynb",
   "provenance": []
  },
  "kernelspec": {
   "display_name": "Python 3",
   "language": "python",
   "name": "python3"
  },
  "language_info": {
   "codemirror_mode": {
    "name": "ipython",
    "version": 3
   },
   "file_extension": ".py",
   "mimetype": "text/x-python",
   "name": "python",
   "nbconvert_exporter": "python",
   "pygments_lexer": "ipython3",
   "version": "3.8.3"
  }
 },
 "nbformat": 4,
 "nbformat_minor": 1
}
