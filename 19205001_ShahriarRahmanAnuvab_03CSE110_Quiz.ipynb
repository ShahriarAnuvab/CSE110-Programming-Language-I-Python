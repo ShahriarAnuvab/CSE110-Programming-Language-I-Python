{
 "cells": [
  {
   "cell_type": "markdown",
   "metadata": {},
   "source": [
    "# Task 1"
   ]
  },
  {
   "cell_type": "code",
   "execution_count": 11,
   "metadata": {},
   "outputs": [
    {
     "name": "stdout",
     "output_type": "stream",
     "text": [
      "Enter Number of Pizza(s): -5\n",
      "Invalid Input\n"
     ]
    }
   ],
   "source": [
    "def pizza_alarm(n):\n",
    "    if(n<0):\n",
    "        print(\"Invalid Input\")\n",
    "    elif(n<2):\n",
    "        print(\"Healthy!! You should do light exercises and yoga.\")\n",
    "    elif(2<=n<=4):\n",
    "        print(\"Not healthy!! You should run 3km/per day for a month\")\n",
    "    elif(5<=n<=9):\n",
    "        print(\"Extremely healthy!! You should run 4km/per day for two months\")\n",
    "    elif(n>9):\n",
    "        print(\"DANGER!! You are at a high risk of a heart attack, please switch to a healthy lifestyle as soon as possible.\")\n",
    "\n",
    "n = int(input(\"Enter Number of Pizza(s): \"))\n",
    "pizza_alarm(n)\n",
    "\n",
    "\n"
   ]
  },
  {
   "cell_type": "markdown",
   "metadata": {},
   "source": [
    "# Task 2"
   ]
  },
  {
   "cell_type": "code",
   "execution_count": 10,
   "metadata": {},
   "outputs": [
    {
     "name": "stdout",
     "output_type": "stream",
     "text": [
      "Enter the string : Today is my CSE110 quiz. I am worried. But there is no success without the stress.\n",
      "{'C': 3, 'S': 9, 'E': 7}\n"
     ]
    }
   ],
   "source": [
    "st = input(\"Enter the string : \")\n",
    "\n",
    "st = st.upper()\n",
    "l = len(st)\n",
    "d = {}\n",
    "c=0\n",
    "s=0\n",
    "e=0\n",
    "\n",
    "for i in range(0,l):\n",
    "    if(st[i]=='C'):\n",
    "        c+=1\n",
    "    elif(st[i]=='S'):\n",
    "        s+=1\n",
    "    elif(st[i]=='E'):\n",
    "        e+=1\n",
    "d.update({'C':c})\n",
    "d.update({'S':s})\n",
    "d.update({'E':e})\n",
    "print(d)\n",
    "\n",
    "\n"
   ]
  },
  {
   "cell_type": "markdown",
   "metadata": {},
   "source": [
    "Before submitting, save the file name in the following format:\n",
    "\n",
    "\n",
    "    ID_NAME_SECTION_CSE110_QUIZ\n",
    "    \n",
    "    example: 20201999_Shawon_Mostafiz_CSE110_Quiz"
   ]
  },
  {
   "cell_type": "code",
   "execution_count": null,
   "metadata": {},
   "outputs": [],
   "source": []
  }
 ],
 "metadata": {
  "kernelspec": {
   "display_name": "Python 3",
   "language": "python",
   "name": "python3"
  },
  "language_info": {
   "codemirror_mode": {
    "name": "ipython",
    "version": 3
   },
   "file_extension": ".py",
   "mimetype": "text/x-python",
   "name": "python",
   "nbconvert_exporter": "python",
   "pygments_lexer": "ipython3",
   "version": "3.8.3"
  }
 },
 "nbformat": 4,
 "nbformat_minor": 4
}
