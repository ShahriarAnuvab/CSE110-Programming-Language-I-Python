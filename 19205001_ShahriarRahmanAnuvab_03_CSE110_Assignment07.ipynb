{
 "cells": [
  {
   "cell_type": "markdown",
   "metadata": {
    "id": "ZXvFDb3VLf5p"
   },
   "source": [
    "# CSE110 Assignment 7\n",
    "\n",
    "\n",
    "**<font color='red'>[MUST MAINTAIN VARIABLE NAMING CONVENTIONS FOR ALL THE TASKS]</font>**\n",
    "\n",
    "## Part 1: File\n",
    "\n"
   ]
  },
  {
   "cell_type": "markdown",
   "metadata": {
    "id": "4fjLeMMMEEKB"
   },
   "source": [
    "### Task 1\n",
    "\n",
    "Write a python program that reads the first n lines of a text file.\n",
    "\n",
    "Suppose you have a file with all these strings in a file.\n",
    "\n",
    "=========================================================\n",
    "\n",
    "I love Python Programming.\\\n",
    "It is very easy to understand the code.\\\n",
    "It can code very hard problems easily in python code.\\\n",
    "Python programming is the best programming language.\n",
    "\n",
    "=========================================================\n",
    "\n",
    "\n",
    "**Input :**\\\n",
    "2\\\n",
    "**Output :**\\\n",
    "I love Python Programming.\\\n",
    "It is very easy to understand the code.\n",
    "\n",
    "=========================================================\n",
    "\n",
    "**Hint(1):**\\\n",
    "Use counter to control line number.\n",
    "\n",
    "**Hint(2):**\\\n",
    "Use function readlines() to store in a list and then use loop\n",
    "\n",
    "**Hint(3):**\\\n",
    "You might need to use strip() function"
   ]
  },
  {
   "cell_type": "code",
   "execution_count": 1,
   "metadata": {
    "colab": {
     "base_uri": "https://localhost:8080/"
    },
    "id": "Kb0Fn1AsEHVR",
    "outputId": "8566d86e-fb90-493a-864a-45b8ecfb03b6"
   },
   "outputs": [
    {
     "name": "stdout",
     "output_type": "stream",
     "text": [
      "How many line you want to show?: 2\n",
      "I love Python Programming.\n",
      "It is very easy to understand the code.\n"
     ]
    }
   ],
   "source": [
    "f = open(\"file1.txt\",'r')\n",
    "n = int(input(\"How many line you want to show?: \"))\n",
    "\n",
    "for i in range(n):\n",
    "  print(f.readline(),end='')\n",
    "\n",
    "f.close()"
   ]
  },
  {
   "cell_type": "markdown",
   "metadata": {
    "id": "6C9IjoWsEJlJ"
   },
   "source": [
    "### Task 2\n",
    "\n",
    "Write a python program to find the longest word in a file. Then print the word.\\\n",
    "**Input: [in a file]**\\\n",
    "I love Python Programming\\\n",
    "It is very easy to understand the code\\\n",
    "It can code very hard problems easily in python code\\\n",
    "Python programming is the best programming language\n",
    "\n",
    "\n",
    "\n",
    "**Output:**\\\n",
    "Programming\n",
    "\n",
    "=========================================================\n",
    "\n",
    "**Hint(1):**\\\n",
    "You can use split function to separate the words into a list.\n",
    "\n",
    "**Hint(2):**\\\n",
    "Use function readlines()"
   ]
  },
  {
   "cell_type": "code",
   "execution_count": 2,
   "metadata": {
    "colab": {
     "base_uri": "https://localhost:8080/"
    },
    "id": "WucZ7kEOEKrA",
    "outputId": "3c15d258-d895-4cc3-8713-4beb0a1ccebe"
   },
   "outputs": [
    {
     "name": "stdout",
     "output_type": "stream",
     "text": [
      "Programming.\n"
     ]
    }
   ],
   "source": [
    "import re\n",
    "f = open(\"file1.txt\",'r')\n",
    "l = []\n",
    "for line in f:\n",
    "  l = l + re.split('[\" \"|,|\\n|'']',line)\n",
    "\n",
    "max_len = len(l[0])\n",
    "for item in l:\n",
    "  if(len(item)>=max_len):\n",
    "    max_len=len(item)\n",
    "    max_word = item\n",
    "print(max_word)\n",
    "f.close() "
   ]
  },
  {
   "cell_type": "markdown",
   "metadata": {
    "id": "Y0dBzRxdEK1R"
   },
   "source": [
    "### Task 3\n",
    "Write a python program that allows you to erase multiple spaces in a text file. Then re-write the sentence without extra spaces in a another text file.\n",
    "\n",
    "=========================================================\n",
    "\n",
    "**Input:**\n",
    "\n",
    "I&nbsp;&nbsp;&nbsp;&nbsp;&nbsp;&nbsp;love  &nbsp;&nbsp;&nbsp;&nbsp;&nbsp;&nbsp;&nbsp;             Python   &nbsp;&nbsp;&nbsp;&nbsp;&nbsp;&nbsp;&nbsp;&nbsp;          Programming\n",
    "\n",
    "**Output:**\\\n",
    "I love Python Programming.\n",
    "\n",
    "=========================================================\n",
    "\n",
    "**Hints:**\\\n",
    "You can use split function to separate the words into a list.\n"
   ]
  },
  {
   "cell_type": "code",
   "execution_count": 7,
   "metadata": {
    "id": "a0yJHr82ENWF"
   },
   "outputs": [],
   "source": [
    "fin = open(\"file2.txt\", \"rt\")\n",
    "fout = open(\"file3.txt\", \"wt\")\n",
    "\n",
    "for line in fin:\n",
    "    fout.write(' '.join(line.split()))\n",
    "    \n",
    "fin.close()\n",
    "fout.close()"
   ]
  },
  {
   "cell_type": "markdown",
   "metadata": {
    "id": "OOFNxcqqENje"
   },
   "source": [
    "### Task 4\n",
    "Write a Python program to count the number of lines in a text file. Then, finally print the total number of lines.\n",
    "\n",
    "=========================================================\n",
    "\n",
    "**Input:**\\\n",
    "Hello\\\n",
    "What are you doing\\\n",
    "I am fine\n",
    "\n",
    "**Output:**\\\n",
    "3\n"
   ]
  },
  {
   "cell_type": "code",
   "execution_count": 3,
   "metadata": {
    "colab": {
     "base_uri": "https://localhost:8080/"
    },
    "id": "PRPocuTJEP0v",
    "outputId": "98b33c62-6a8e-4574-fee7-f706d47314c0"
   },
   "outputs": [
    {
     "name": "stdout",
     "output_type": "stream",
     "text": [
      "4\n"
     ]
    }
   ],
   "source": [
    "f = open(\"file1.txt\",'r')\n",
    "\n",
    "list_line = f.readlines()\n",
    "print(len(list_line))\n",
    "f.close()"
   ]
  },
  {
   "cell_type": "markdown",
   "metadata": {
    "id": "LiSNirheEQHf"
   },
   "source": [
    "### Task 5\n",
    "\n",
    "Write a Python program to combine each line from the first file with the corresponding line in the second file and then save it in a 3rd file.\n",
    "\n",
    "Consider, both the files have same number of lines. Assume, each line has a newline(\\n) at the end.\n",
    "\n",
    "=========================================================\n",
    "\n",
    "**Example:**\\\n",
    "**Input from file 1:**\\\n",
    "Hello\\\n",
    "Hi\\\n",
    "Nice\n",
    "\n",
    "**Input from file 2:**\\\n",
    "Bad\\\n",
    "Worse\\\n",
    "Worst\n",
    "\n",
    "**Output in 3rd FIle:**\\\n",
    "Hello Bad\\\n",
    "Hi Worse\\\n",
    "Nice Worst \n",
    "\n",
    "=========================================================\n",
    "\n",
    "**Hint(1):**\\\n",
    " Use the write() function\n",
    "\n",
    "\n",
    "\n"
   ]
  },
  {
   "cell_type": "code",
   "execution_count": 4,
   "metadata": {
    "colab": {
     "base_uri": "https://localhost:8080/",
     "height": 244
    },
    "id": "b-b4xnHLETDY",
    "outputId": "3872fb30-560d-4a70-cc58-5475f2d5d9b6"
   },
   "outputs": [
    {
     "name": "stdout",
     "output_type": "stream",
     "text": [
      "HelloBad\n",
      "HiWorse\n",
      "NiceWorst\n",
      "\n"
     ]
    }
   ],
   "source": [
    "f1 = open(\"file4.txt\",'r')\n",
    "f2 = open(\"file5.txt\",'r')\n",
    "f3 = open(\"file6.txt\",'w')\n",
    "\n",
    "l1 = f1.readlines()\n",
    "l2 = f2.readlines()\n",
    "\n",
    "for i in range(len(l1)):\n",
    "  s = l1[i].replace('\\n',\"\")+l2[i].replace('\\n',\"\")\n",
    "  f3.write(s)\n",
    "  f3.write(\"\\n\")\n",
    "\n",
    "f3.close()\n",
    "\n",
    "fout = open(\"file6.txt\",'r')\n",
    "print(fout.read())\n",
    "\n",
    "fout.close()"
   ]
  },
  {
   "cell_type": "markdown",
   "metadata": {
    "id": "uIYrt-t8ETUQ"
   },
   "source": [
    "\n",
    "### Task 6 (Ungraded - Optional task)\n",
    "Suppose you made a game and you stored information about the game play in a file.\\\n",
    "You stored Name, Score, Lives Used and Characters Killed of each players.\n",
    "\n",
    "**Existing file:**\\\n",
    "Mary,2000,5,25\\\n",
    "John,123455,12,50\\\n",
    "Peter,1500,5,10\\\n",
    "Harry,10000,10,30\\\n",
    "John,122,5,2\\\n",
    "Mary,5,1,1\\\n",
    "Peter,2,1,1\\\n",
    "John,123,5,10\\\n",
    "John,5,6,7\n",
    "\n",
    "**Now you have to make a new file where you have to store the following information:**\\\n",
    "1.In the first line you have to show the name and score of the player who scored the highest score.\n",
    "\n",
    "2.In the second line you have to store the name and lives used of players who used the least lives.\n",
    "\n",
    "3.In the third line you have to show the name and number of games played of the player who played the most games.\n",
    "\n",
    "**Output:**\\\n",
    "Name:John, Score:123455\\\n",
    "Name:Mary, Lives used:1\\\n",
    "Name:John, Games Played:4\n",
    "\n",
    "=========================================================\n",
    "\n",
    "**Hint(1):**\\\n",
    "Use dictionary where necessary.\\\n",
    "You are allowed to use max() min(), list.index(value) and str.split(separator) function.\n",
    "\n",
    "**Hint(2):**\\\n",
    "You need to use split function to get the data. The split function takes the separator as an argument.\n",
    "\n",
    "*Structure:*\n",
    "str.split(separator)\n",
    "\n",
    "*Example:*\n",
    "line = \"John,5,6,7\"\\\n",
    "line.split(',')\n",
    "\n",
    "**Hint(3):**\\\n",
    "You can use both write() and writelines() for writing the answers\n",
    "\n"
   ]
  },
  {
   "cell_type": "code",
   "execution_count": 5,
   "metadata": {
    "colab": {
     "base_uri": "https://localhost:8080/"
    },
    "id": "NOpi8SPREmVw",
    "outputId": "57f6c602-4199-4215-8245-d7f97ecb71fc"
   },
   "outputs": [],
   "source": [
    "import re\n",
    "f1 = open(\"file7.txt\",'r')\n",
    "f1lines = f1.readlines()\n",
    "#print(f1lines)\n",
    "name = []\n",
    "score=[]\n",
    "live = []\n",
    "char = []\n",
    "list_line=[]\n",
    "for line in f1lines:\n",
    "  #print(line)\n",
    "  list_line.append(re.split('[\",\"|,|\\n|'']',line))\n",
    "\n",
    "for player in list_line:\n",
    "  name.append(player[0])\n",
    "  score.append(int(player[1]))\n",
    "  live.append(int(player[2]))\n",
    "  char.append(int(player[3]))\n",
    "\n",
    "d = {x1:name.count(x1) for x1 in name}\n",
    "#print(d)\n",
    "mostPlayed = max(d.values())\n",
    "key_list = list(d.keys())\n",
    "val_list = list(d.values())\n",
    "mostPlay = val_list.index(mostPlayed)\n",
    "#print(key_list[mostPlay])\n",
    "highScore = max(score)\n",
    "lowLive = min(live)\n",
    "highCharacter = max(char)\n",
    "st = \"\"\n",
    "count=0\n",
    "for p in list_line:\n",
    "  if(str(highScore) in p):\n",
    "    st = st+\"Name:\"+p[0]+', Score: '+str(highScore)+'\\n'\n",
    "    #break\n",
    "  if(str(lowLive) in p):\n",
    "    st = st+\"Name:\"+p[0]+', Lives used: '+str(lowLive)+'\\n'\n",
    "    break\n",
    "st = st + \"Name:\"+key_list[mostPlay]+\"Games Played: \"+str(mostPlayed)+'\\n'\n",
    "f1.close()\n",
    "f2 = open(\"file8.txt\",'w')\n",
    "f2.write(st)\n",
    "f2.close()\n",
    "#print(st)"
   ]
  },
  {
   "cell_type": "markdown",
   "metadata": {
    "id": "6J7MA_zNCbCg"
   },
   "source": [
    "## Part 2: Exception\n",
    "\n",
    "This assignment is to guide you to solve everything you have learned so far by implementing Exceptions in Python. \n"
   ]
  },
  {
   "cell_type": "markdown",
   "metadata": {
    "id": "tZow-v3MLoLE"
   },
   "source": [
    "### Task 7\n",
    "Given a list named my_list.\n",
    "my_list=[10,20,30,40,60,100,2,5]\n",
    "\n",
    "Write a python program that takes the position as an input from the user and prints the element of that position from the list. \n",
    "\n",
    "If the user’s input position is not in the range, return an exception stating “Index out of range”.\n",
    "\n",
    "Make sure your program always prints “Program ended” at the end, no matter what happens.\n",
    "\n",
    "=============================\n",
    "\n",
    "**Hint:** Use finally block\n",
    "\n",
    "=============================\n",
    "\n",
    "**Example 1:** \\\n",
    "**Input:**\\\n",
    "1\\\n",
    "**Output:**\\\n",
    "20\\\n",
    "Program ended\n",
    "\n",
    "=============================\n",
    "\n",
    "**Example 2:** \\\n",
    "**Input:**\\\n",
    "10\\\n",
    "**Output:**\\\n",
    "Index out of range.\\\n",
    "Program ended\n"
   ]
  },
  {
   "cell_type": "code",
   "execution_count": 6,
   "metadata": {
    "colab": {
     "base_uri": "https://localhost:8080/"
    },
    "id": "c9yKuS5kLdDO",
    "outputId": "87c85aa7-0e5e-49b7-c2b9-d679e739c479"
   },
   "outputs": [
    {
     "name": "stdout",
     "output_type": "stream",
     "text": [
      "Enter the position value: 1\n",
      "20\n",
      "Program ended\n"
     ]
    }
   ],
   "source": [
    "my_list=[10,20,30,40,60,100,2,5]\n",
    "p = int(input(\"Enter the position value: \"))\n",
    "\n",
    "try:\n",
    "  print(my_list[p])\n",
    "\n",
    "except Exception:\n",
    "  print (\"Index out of range\")\n",
    "finally:\n",
    "  print(\"Program ended\")\n"
   ]
  },
  {
   "cell_type": "markdown",
   "metadata": {
    "id": "gD4MMyO_Mtw4"
   },
   "source": [
    "### Task 8\n",
    "\n",
    "Suppose you have a dictionary named my_dictionary containing the name of some groceries and their prices.\\\n",
    "my_dictionary={“Potato”:12, “Onion”:16, “Ginger”:15, “Garlic”:12, “Tomato”:15}\n",
    "\n",
    "Now write a python program that takes the grocerie names as input from the users and shows the total price of the groceries.\n",
    "\n",
    "Some exceptions to handle:\n",
    "* Handle the exception when the given key is not present in the dictionary.\n",
    "* Handle the exception when the summation variable is not initialized.\n",
    "\n",
    "=============================\n",
    "\n",
    "**Example 1:** \\\n",
    "**Input:**\\\n",
    "Potato,Onion,Ginger\\\n",
    "**Output:**\\\n",
    "43\n",
    "\n",
    "=============================\n",
    "\n",
    "**Example 2:** \\\n",
    "**Input:**\\\n",
    "Potato,Onion,Ginger,Beef\\\n",
    "**Output:**\\\n",
    "Some groceries are not available in the dictionary.\n"
   ]
  },
  {
   "cell_type": "code",
   "execution_count": 7,
   "metadata": {
    "colab": {
     "base_uri": "https://localhost:8080/"
    },
    "id": "15umlUXTNe5N",
    "outputId": "0c872228-a374-4cb6-b7a7-70fe39242165"
   },
   "outputs": [
    {
     "name": "stdout",
     "output_type": "stream",
     "text": [
      "Enter grocery name: (enter ok If No other item)Potato\n",
      "Enter grocery name: (enter ok If No other item)Onion\n",
      "Enter grocery name: (enter ok If No other item)Ginger\n",
      "Enter grocery name: (enter ok If No other item)Beef\n",
      "Some groceries are not available in the dictionary.\n"
     ]
    }
   ],
   "source": [
    "my_dictionary={\"Potato\" :12, \"Onion\":16, \"Ginger\":15, \"Garlic\":12, \"Tomato\":15}\n",
    "try:\n",
    "  sum=0\n",
    "  while(1):\n",
    "    item = input(\"Enter grocery name: (enter ok If No other item)\")\n",
    "    if(item==\"ok\"):\n",
    "      break\n",
    "    sum=sum+my_dictionary[item]\n",
    "  print(sum)\n",
    "\n",
    "except KeyError:\n",
    "  print (\"Some groceries are not available in the dictionary.\")\n",
    "except ValueError:\n",
    "  print(\"Sum is not initialized\")\n",
    "\n"
   ]
  },
  {
   "cell_type": "markdown",
   "metadata": {
    "id": "l5SgF6kTN7vY"
   },
   "source": [
    "### Task 9\n",
    "Write a python program that takes two lists as input from the user, multiplies the index wise elements of the two lists and adds it to a new variable. While doing the program you should handle the following exceptions:\n",
    "* Return an exception when the new variable is not declared stating “The new variable is not declared”.\n",
    "* Return an exception if an element in a list is not a number stating “The list has some non number values”.\n",
    "* Return an exception if there is an index out of bound stating “Index out of bound”.\n",
    "\n",
    "=============================\n",
    "\n",
    "**Example 1:** \\\n",
    "**Input:**\\\n",
    "list_one = [1, a, 2, 4]\\\n",
    "list_two =[5, 6, 7, 8]\\\n",
    "**Output:**\\\n",
    "The list has some non number values\n",
    "\n",
    "=================\n",
    "\n",
    "**Example 2:** \\\n",
    "**Input:**\\\n",
    "list_one=[1, 2, 3, 4, 5]\\\n",
    "list_two=[1, 2, 3, 4]\\\n",
    "**Output:**\\\n",
    "Index out of bound\n",
    "\n",
    "=================\n",
    "\n",
    "**Example 3:** \\\n",
    "**Input:**\\\n",
    "list_one=[1,2,3,4]\\\n",
    "list_two=[5,6,7,8]\\\n",
    "**Output:**\\\n",
    "70\n",
    "\n",
    "\n"
   ]
  },
  {
   "cell_type": "code",
   "execution_count": 7,
   "metadata": {
    "colab": {
     "base_uri": "https://localhost:8080/"
    },
    "id": "oFpEZFRhOlvV",
    "outputId": "230f1c10-d703-4672-c61a-82e339e4475f"
   },
   "outputs": [
    {
     "name": "stdout",
     "output_type": "stream",
     "text": [
      "Enter the number of elements in first list: 2\n",
      "Enter the list element: 1,2,3,4\n",
      "The list has some non number values\n"
     ]
    }
   ],
   "source": [
    "try:\n",
    "  l1=[]\n",
    "  l2=[]\n",
    "  total=0\n",
    "  n1 = int(input(\"Enter the number of elements in first list: \"))\n",
    "  for i in range(n1):\n",
    "    n = int(input(\"Enter the list element: \"))\n",
    "    l1.append(n)\n",
    "  n2 = int(input(\"Enter the number of elements in first list: \"))\n",
    "  for i in range(n2):\n",
    "    n3 = int(input(\"Enter the list element: \"))\n",
    "    l2.append(n3)\n",
    "\n",
    "  for j in range(len(l1)):\n",
    "    total=total+l1[j]*l2[j]\n",
    "  print(total)\n",
    "    \n",
    "except ValueError:\n",
    "  print(\"The list has some non number values\")\n",
    "except NameError:\n",
    "  print(\"The new variable is not declared\")\n",
    "except IndexError:\n",
    "  print(\"Index Out of Bound\")"
   ]
  },
  {
   "cell_type": "markdown",
   "metadata": {
    "id": "iBqIUN-WOnvW"
   },
   "source": [
    "### Task 10\n",
    "Write a python program that will take a string input from the user. Your task is to count the number of vowels and consonants in the string.\n",
    "\n",
    "Using try, if the number of vowels is greater than or equal to the number of consonants than raise a runtime error. Print 'Number of vowels greater/equal to consonants. Please, paraphrase'.\\\n",
    "Otherwise, print 'The sentence will work'. \n",
    "\n",
    "**Note:** a,e,i,o,u are called vowels and all the other 21 english alphabets are consonants.\n",
    "\n",
    "=============================\n",
    "\n",
    "**Example 1:** \\\n",
    "**Input:**\\\n",
    "'his age is 10'\\\n",
    "**Output:**\\\n",
    "Number of vowels is greater/equal. Paraphrase the sentence\n",
    "\n",
    "=================\n",
    "\n",
    "**Example 2:** \\\n",
    "**Input:**\\\n",
    "'he is 10 years old'\\\n",
    "**Output:**\\\n",
    "The sentence will work"
   ]
  },
  {
   "cell_type": "code",
   "execution_count": 8,
   "metadata": {
    "colab": {
     "base_uri": "https://localhost:8080/"
    },
    "id": "-4kg2W2EPwVo",
    "outputId": "793b8cc3-157c-4510-fd0d-c38f9366998e"
   },
   "outputs": [
    {
     "name": "stdout",
     "output_type": "stream",
     "text": [
      "Enter a Stringhe is 10 years old\n",
      "The sentence will work\n"
     ]
    }
   ],
   "source": [
    "try:\n",
    "  s = input(\"Enter a String\")\n",
    "  s=s.replace(\" \",\"\")\n",
    "  s=s.lower()\n",
    "  countv=0\n",
    "  countc=0\n",
    "  for i in s:\n",
    "    if(i.isalpha() and (i=='a' or i=='e' or i=='i' or i=='o' or i=='u')):\n",
    "      countv+=1\n",
    "    elif(i.isalpha()):\n",
    "      countc+=1\n",
    "  if (countv>=countc):\n",
    "    raise CountError()\n",
    "  else:\n",
    "    print(\"The sentence will work\")\n",
    "except Exception:\n",
    "  print(\"Number of vowels is greater/equal. Paraphrase the sentence\")\n"
   ]
  },
  {
   "cell_type": "markdown",
   "metadata": {
    "id": "pl4CDeUkPxeM"
   },
   "source": [
    "### Task 11\n",
    "Write a python program that finds the corresponding energy values from a list of frequency values which are taken as input from the user, using the formula, $E=h*f$, where h is a constant of value: 1050\n",
    "\n",
    "Exceptions to handle:\n",
    "* Make sure all elements in the lists are numbers\n",
    "\n",
    "=============================\n",
    "\n",
    "**Example 1:** \\\n",
    "**Input:**\\\n",
    "[2,3]\\\n",
    "**Output:**\\\n",
    "[2100, 3150]\n",
    "\n",
    "=================\n",
    "\n",
    "**Example 2:** \\\n",
    "**Input:**\\\n",
    "[2,boss]\\\n",
    "**Output:**\\\n",
    "Wrong input type"
   ]
  },
  {
   "cell_type": "code",
   "execution_count": 9,
   "metadata": {
    "colab": {
     "base_uri": "https://localhost:8080/"
    },
    "id": "vdYQH9qnQvVo",
    "outputId": "f1791a9c-e162-4e69-effe-72ce899a0c46"
   },
   "outputs": [
    {
     "name": "stdout",
     "output_type": "stream",
     "text": [
      "Enter number of elements : 2\n",
      "Enter Frequency2\n",
      "Enter Frequency3\n",
      "[2100, 3150]\n"
     ]
    }
   ],
   "source": [
    "try:\n",
    "  lstf = [] \n",
    "  lste = []\n",
    "  c = 1050\n",
    "    \n",
    "  # number of elemetns as input \n",
    "  n = int(input(\"Enter number of elements : \")) \n",
    "    \n",
    "  # iterating till the range \n",
    "  for i in range(0, n): \n",
    "      f = int(input(\"Enter Frequency\"))\n",
    "      e = c*f \n",
    "    \n",
    "      lstf.append(f) # adding the element\n",
    "      lste.append(e)\n",
    "  print(lste)\n",
    "\n",
    "except ValueError:\n",
    "  print(\"Wrong input type\") "
   ]
  },
  {
   "cell_type": "markdown",
   "metadata": {
    "id": "RdshPzpJRcsD"
   },
   "source": [
    "### Task 12\n",
    "Write a python function that will remove a given character from a sentence based on the starting and ending index of the sentence. In the place of the removed characters, add the count of the number of characters removed so far. For this program, you need to take 4 user inputs.\n",
    "* Sentence\n",
    "* Character to be removed\n",
    "* Starting index (inclusive)\n",
    "* Ending index (inclusive)\n",
    "\n",
    "Few exceptions to catch: \n",
    "* Name Error if a variable is not found. Print ‘Name Error: Variable not defined’\n",
    "* Value Error if the starting index and ending index is not an integer. Print ‘Value Error: Wrong input, please enter an integer value.’\n",
    "* Type Error when adding count in the new sentence. Print ‘Type Error: Cannot add integer value with string.’\n",
    "* Index Error if the starting and ending index is out of range. Print ‘Index Error: Index is outside the range of sentence length.’\n",
    "* For other exceptions, catch Exception. Print ‘Some other error occurred.’\n",
    "\n",
    "If no exception occurred, print the new string using else block. At the end using finally, print ‘The program execution is complete’.\n",
    "\n",
    "=============================\n",
    "\n",
    "**Example 1:** \\\n",
    "**Input:**\\\n",
    "'my python programming book'\\\n",
    "'m'\\\n",
    "2\\\n",
    "20\\\n",
    "**Output:**\\\n",
    "my python progra12ing book\\\n",
    "The program execution is complete\n",
    "\n",
    "=================\n",
    "\n",
    "**Example 2:** \\\n",
    "**Input:**\\\n",
    "'my python programming book'\\\n",
    "'m'\\\n",
    "2.5\\\n",
    "20\\\n",
    "**Output:**\\\n",
    "Value Error: Wrong input, please enter an integer value.\\\n",
    "The program execution is complete\n",
    "\n",
    "=================\n",
    "\n",
    "**Example 3:** \\\n",
    "**Input:**\\\n",
    "'my python programming book'\\\n",
    "'m'\\\n",
    "2\\\n",
    "100\\\n",
    "**Output:**\\\n",
    "Index Error: Index is outside the range of sentence length.\\\n",
    "The program execution is complete\n"
   ]
  },
  {
   "cell_type": "code",
   "execution_count": 10,
   "metadata": {
    "colab": {
     "base_uri": "https://localhost:8080/"
    },
    "id": "bcU6dV5BSl7d",
    "outputId": "fb48b24e-4302-4f80-c81c-94989c4eb90f"
   },
   "outputs": [
    {
     "name": "stdout",
     "output_type": "stream",
     "text": [
      "Enter a Sentence: my python programming book\n",
      "Enter Character to be removed: m\n",
      "Enter the start index: 2\n",
      "Enter the ending index: 100\n",
      "Index Error: Index is outside the range of sentence length.\n"
     ]
    }
   ],
   "source": [
    "count=0\n",
    "try:\n",
    "  s = input(\"Enter a Sentence: \")\n",
    "  c = input(\"Enter Character to be removed: \")\n",
    "  start = int(input(\"Enter the start index: \"))\n",
    "  end = int(input(\"Enter the ending index: \"))\n",
    "\n",
    "  \n",
    "  for i in range(start,end+1,1):\n",
    "    if(s[i]==c):\n",
    "      count+=1\n",
    "      cs = str(count)\n",
    "      s=s[:i]+cs+s[i+1:]\n",
    "      i+=1\n",
    "\n",
    "except NameError:\n",
    "  print(\"Name Error: Variable not defined\")\n",
    "except ValueError:\n",
    "  print('Value Error: Wrong input, please enter an integer value.')\n",
    "except TypeError:\n",
    "  print(\"Type Error: Cannot add integer value with string.\")\n",
    "except IndexError:\n",
    "  print(\"Index Error: Index is outside the range of sentence length.\")\n",
    "except Exception:\n",
    "  print(\"Some other error occurred\")\n",
    "else:\n",
    "  print(s)\n",
    "\n"
   ]
  },
  {
   "cell_type": "markdown",
   "metadata": {
    "id": "SjU5ufx8Snv3"
   },
   "source": [
    "### Task 13\n",
    "Read a **file** from the user which contains the  name and salary of employees. Convert that to a dictionary where the key is the name of each employee and value is the salary of that employee. Then find the total cost for the company that it needs to pay through employees’ salary. Print the dictionary and sum if no exception occurs.\n",
    "\n",
    "Exception to handle:\n",
    "* check whether file is actually there\n",
    "* Check whether the salary in each line is a number or not.\n",
    "* Raise error if there are extra numbers or names\n",
    "\n",
    "=============================\n",
    "\n",
    "**Example 1:** \\\n",
    "**Input:**\\\n",
    "Saadat 100\\\n",
    "Farzad 200\\\n",
    "Atef 300\\\n",
    "**Output:**\\\n",
    "dict={Saadat : 100, Farzad : 200, Atef : 300}\\\n",
    "Sum = 600\n",
    "\n",
    "=================\n",
    "\n",
    "**Example 2:** \\\n",
    "**Input:**\\\n",
    "Saadat 100\\\n",
    "Farzad 200\\\n",
    "Atef 300\\\n",
    "John\\\n",
    "**Output:**\\\n",
    "Extra Statement\n"
   ]
  },
  {
   "cell_type": "code",
   "execution_count": 12,
   "metadata": {
    "colab": {
     "base_uri": "https://localhost:8080/"
    },
    "id": "SUxJ1iCXUAPg",
    "outputId": "81cada2a-07dd-470e-ea0d-a6b41d11cc49"
   },
   "outputs": [
    {
     "name": "stdout",
     "output_type": "stream",
     "text": [
      "salary must be integer\n"
     ]
    }
   ],
   "source": [
    "try:\n",
    "  a_dictionary = {}\n",
    "  sum=0\n",
    "  a_file = open(\"file7.txt\")\n",
    "  for line in a_file:\n",
    "      key, value = line.split()\n",
    "\n",
    "      a_dictionary[key] = value\n",
    "      sum = sum+int(value)\n",
    "except FileNotFoundError:\n",
    "  print(\"File is not found\")\n",
    "except ValueError:\n",
    "  print(\"salary must be integer\")\n",
    "except KeyError:\n",
    "  print(\"Extra Statement\")\n",
    "else:\n",
    "    print(\"dict = \",a_dictionary)\n",
    "    print(\"Sum = \",sum)\n",
    "\n"
   ]
  },
  {
   "cell_type": "markdown",
   "metadata": {
    "id": "GC6Y943uUNHY"
   },
   "source": [
    "### Task 14\n",
    "Imagine Salman Khan is going to the sets of a new movie. He decides to cycle everyday on his way to the sets. For that he uses a distance calculator which finds the distance based on the present day's date, which is asked as an input from the user. You should first take the day and then the month as your inputs.\n",
    "The inputs should be stored in variables named `day` and `month` The distance calculator uses the following formulae to calculate a number which dictates the number of kilometers he must cycle on his way to work.\n",
    "\n",
    "Exceptions to handle:\\\n",
    "-Check for 0 division error exception\\\n",
    "-Type error exception when taking date as input(if the input does not contain number)\\\n",
    "-Value error exception, as day can not be greater than 31 and month can not be greater than 12\n",
    "\n",
    "\n",
    "\n",
    "\n",
    "\n",
    "Distance = |if day<10, `5+(day*2)/month`\\\n",
    "&nbsp;&nbsp;&nbsp;&nbsp;&nbsp;&nbsp;&nbsp;&nbsp;&nbsp;&nbsp;&nbsp;&nbsp;&nbsp;&nbsp;&nbsp;&nbsp;&nbsp;&nbsp;&nbsp; |else, `3+(day/month)`\n",
    "\n",
    "\n",
    "\n",
    "=============================\n",
    "\n",
    "\n",
    "**Example 1:** \\\n",
    "**Input:**\\\n",
    "3\\\n",
    "5\\\n",
    "**Output:**\\\n",
    "6.2 kilometres\n",
    "\n",
    "=================\n",
    "\n",
    "**Example 2:** \\\n",
    "**Input:**\\\n",
    "2\\\n",
    "0\\\n",
    "**Output:**\\\n",
    "0 is not a valid month\n",
    "\n",
    "=============================\n",
    "\n",
    "**Example 3:** \\\n",
    "**Input:**\\\n",
    "35\\\n",
    "12\\\n",
    "**Output:**\\\n",
    "35 is not a valid day of any month\n",
    "\n",
    "=============================\n",
    "\n",
    "**Example 4:** \\\n",
    "**Input:**\\\n",
    "Hello\\\n",
    "12\\\n",
    "**Output:**\\\n",
    "Please do not enter any string as input\n",
    "\n",
    "=============================\n",
    "\n",
    "\n",
    "**Example 5:** \\\n",
    "**Input:**\\\n",
    "15\\\n",
    "12\\\n",
    "**Output:**\\\n",
    "4.25 kilometres\n",
    "\n",
    "\n",
    "\n",
    "\n"
   ]
  },
  {
   "cell_type": "code",
   "execution_count": 13,
   "metadata": {
    "colab": {
     "base_uri": "https://localhost:8080/"
    },
    "id": "fg9mQUaEWH7a",
    "outputId": "e979ce48-9e4b-4fe5-895a-b92b36273710"
   },
   "outputs": [
    {
     "name": "stdout",
     "output_type": "stream",
     "text": [
      "Enter Day: 2\n",
      "Enter Month: 0\n",
      "Zero Dividion error\n"
     ]
    }
   ],
   "source": [
    "try:\n",
    "  d = int(input(\"Enter Day: \"))\n",
    "  m = int(input(\"Enter Month: \"))\n",
    "  if(d>31):\n",
    "    raise ValueError(\"It is  not a valid date\")\n",
    "  if(m>12):\n",
    "    raise ValueError(\"It is not a valid Month\")\n",
    "  if(d<10):\n",
    "    distance = 5+(d*2)/m\n",
    "  else:\n",
    "    distance = 3+(d/m)\n",
    "  print(distance,\"Kilometers\")\n",
    "\n",
    "except TypeError :\n",
    "  print(\"Please do not enter any string as input\")\n",
    "except ZeroDivisionError:\n",
    "  print(\"Zero Dividion error\")"
   ]
  },
  {
   "cell_type": "markdown",
   "metadata": {
    "id": "2Xzq6xJNWvbf"
   },
   "source": [
    "### Task 15\n",
    "Write a python program to make a calculator. The user must input a string consisting of a number, operator and another number separated by white spaces.\n",
    "* If the user’s input does not contain 3 elements, raise an exception error stating “Input does not contain 3 elements/Wrong operator”.\n",
    "* If the user inputs any other values except numbers in first and third position of the input, raise value error exception stating “Input does not contain numbers.” \n",
    "* If the user does not input ‘+’ or ‘-’ or ’/’ or ‘*’ or ‘%’ in second position of the input, again raise an exception stating “Input does not contain 3 elements/Wrong operator”.\n",
    "* In case of division, also handle divide by zero exception.\n",
    "\n",
    "If all the inputs are correct, calculate the result and print the value.\n",
    "\n",
    "\n",
    "=============================\n",
    "\n",
    "\n",
    "**Example 1:** \\\n",
    "**Input:**\\\n",
    "1 + 1 + 1\\\n",
    "**Output:**\\\n",
    "Input does not contain 3 elements/Wrong operator\n",
    "\n",
    "=================\n",
    "\n",
    "**Example 2:** \\\n",
    "**Input:**\\\n",
    "A * B\\\n",
    "**Output:**\\\n",
    "Input does not contain numbers.\n",
    "\n",
    "=================\n",
    "\n",
    "**Example 3:** \\\n",
    "**Input:**\\\n",
    "1 $ 3\\\n",
    "**Output:**\\\n",
    "Input does not contain 3 elements/Wrong operator\n",
    "\n",
    "=================\n",
    "\n",
    "**Example 4:** \\\n",
    "**Input:**\\\n",
    "1 + 1\\\n",
    "**Output:**\\\n",
    "The answer is : 2\n"
   ]
  },
  {
   "cell_type": "code",
   "execution_count": 17,
   "metadata": {
    "colab": {
     "base_uri": "https://localhost:8080/"
    },
    "id": "vX2d7DiVXbhc",
    "outputId": "11ddd0c3-f4ec-4588-f705-b86fc584f906"
   },
   "outputs": [
    {
     "name": "stdout",
     "output_type": "stream",
     "text": [
      "Enter the Expression as(X + Y): A+B\n"
     ]
    },
    {
     "ename": "ValueError",
     "evalue": "Input does not contain 3 elements/Wrong operator",
     "output_type": "error",
     "traceback": [
      "\u001b[1;31m---------------------------------------------------------------------------\u001b[0m",
      "\u001b[1;31mValueError\u001b[0m                                Traceback (most recent call last)",
      "\u001b[1;32m<ipython-input-17-12387a18a92e>\u001b[0m in \u001b[0;36m<module>\u001b[1;34m\u001b[0m\n\u001b[0;32m     19\u001b[0m   \u001b[0mex\u001b[0m \u001b[1;33m=\u001b[0m \u001b[0mex\u001b[0m\u001b[1;33m.\u001b[0m\u001b[0msplit\u001b[0m\u001b[1;33m(\u001b[0m\u001b[1;34m\" \"\u001b[0m\u001b[1;33m)\u001b[0m\u001b[1;33m\u001b[0m\u001b[1;33m\u001b[0m\u001b[0m\n\u001b[0;32m     20\u001b[0m   \u001b[1;32mif\u001b[0m\u001b[1;33m(\u001b[0m\u001b[0mlen\u001b[0m\u001b[1;33m(\u001b[0m\u001b[0mex\u001b[0m\u001b[1;33m)\u001b[0m\u001b[1;33m!=\u001b[0m\u001b[1;36m3\u001b[0m\u001b[1;33m)\u001b[0m\u001b[1;33m:\u001b[0m\u001b[1;33m\u001b[0m\u001b[1;33m\u001b[0m\u001b[0m\n\u001b[1;32m---> 21\u001b[1;33m     \u001b[1;32mraise\u001b[0m \u001b[0mValueError\u001b[0m\u001b[1;33m(\u001b[0m\u001b[1;34m\"Input does not contain 3 elements/Wrong operator\"\u001b[0m\u001b[1;33m)\u001b[0m\u001b[1;33m\u001b[0m\u001b[1;33m\u001b[0m\u001b[0m\n\u001b[0m\u001b[0;32m     22\u001b[0m   \u001b[1;31m#print(ex)\u001b[0m\u001b[1;33m\u001b[0m\u001b[1;33m\u001b[0m\u001b[1;33m\u001b[0m\u001b[0m\n\u001b[0;32m     23\u001b[0m   \u001b[1;32mfor\u001b[0m \u001b[0mi\u001b[0m \u001b[1;32min\u001b[0m \u001b[0mex\u001b[0m\u001b[1;33m:\u001b[0m\u001b[1;33m\u001b[0m\u001b[1;33m\u001b[0m\u001b[0m\n",
      "\u001b[1;31mValueError\u001b[0m: Input does not contain 3 elements/Wrong operator"
     ]
    }
   ],
   "source": [
    "try: \n",
    "  def calculator(arg):\n",
    "    b,a,c = arg\n",
    "    b=int(b)\n",
    "    c=int(c)\n",
    "    #print(arg)\n",
    "    if(a==\"+\"):\n",
    "      r = b+c\n",
    "    elif(a==\"-\"):\n",
    "      r = b-c\n",
    "    elif(a==\"*\"):\n",
    "      r = b*c\n",
    "    else:\n",
    "      r = b/c\n",
    "    return r\n",
    "\n",
    "  operator = ['+', '-', '*', '/', '%']\n",
    "  ex = input(\"Enter the Expression as(X + Y): \")\n",
    "  ex = ex.split(\" \")\n",
    "  if(len(ex)!=3):\n",
    "    raise ValueError(\"Input does not contain 3 elements/Wrong operator\")\n",
    "  #print(ex)\n",
    "  for i in ex:\n",
    "    if(ex[1] not in operator):\n",
    "      raise TypeError(\"Input does not contain 3 elements/Wrong operator\")\n",
    "    if(ex[0].isdigit()==False or ex[2].isdigit()==False):\n",
    "      raise TypeError(\"Input Does not contain Numbers\")\n",
    "  result = calculator(ex)\n",
    "  print(result)\n",
    "except ZeroDivisionError:\n",
    "  print('Zero Division Error Raised')"
   ]
  },
  {
   "cell_type": "code",
   "execution_count": null,
   "metadata": {},
   "outputs": [],
   "source": []
  }
 ],
 "metadata": {
  "colab": {
   "collapsed_sections": [],
   "name": "CSE110 Assignment07_Solved (File _ Exception).ipynb",
   "provenance": [],
   "toc_visible": true
  },
  "kernelspec": {
   "display_name": "Python 3",
   "language": "python",
   "name": "python3"
  },
  "language_info": {
   "codemirror_mode": {
    "name": "ipython",
    "version": 3
   },
   "file_extension": ".py",
   "mimetype": "text/x-python",
   "name": "python",
   "nbconvert_exporter": "python",
   "pygments_lexer": "ipython3",
   "version": "3.8.3"
  }
 },
 "nbformat": 4,
 "nbformat_minor": 1
}
