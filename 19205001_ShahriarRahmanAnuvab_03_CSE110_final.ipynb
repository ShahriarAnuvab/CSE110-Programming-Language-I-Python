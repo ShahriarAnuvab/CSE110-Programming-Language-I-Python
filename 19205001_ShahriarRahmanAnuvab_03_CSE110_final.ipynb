{
 "cells": [
  {
   "cell_type": "markdown",
   "metadata": {
    "id": "m8sEAZnyvfhU"
   },
   "source": [
    "# Task 1"
   ]
  },
  {
   "cell_type": "code",
   "execution_count": 8,
   "metadata": {
    "id": "Rbo26B5Bvfhc"
   },
   "outputs": [
    {
     "name": "stdout",
     "output_type": "stream",
     "text": [
      "Enter a sentence: I love my mom\n",
      "No word found twice\n"
     ]
    }
   ],
   "source": [
    "def print_word(s):\n",
    "    \n",
    "    count = 1\n",
    "    l = []\n",
    "    s = s.lower()\n",
    "    s = s.split(' ')\n",
    "    s1 = s\n",
    "    for i in range(0,len(s)):\n",
    "        for j in range(i+1,len(s)):\n",
    "            if(s[i]==s[j]):\n",
    "                count+=1\n",
    "        if(count>1):\n",
    "            l.append(s[i])\n",
    "        count=1\n",
    "    return l\n",
    "        \n",
    "\n",
    "\n",
    "s = input(\"Enter a sentence: \")\n",
    "list_word = print_word(s)\n",
    "if(len(list_word)==0):\n",
    "    print(\"No word found twice\")\n",
    "else:\n",
    "    print(list_word)\n",
    "\n"
   ]
  },
  {
   "cell_type": "markdown",
   "metadata": {
    "id": "xm__iPVgvfhe"
   },
   "source": [
    "# Task 2"
   ]
  },
  {
   "cell_type": "code",
   "execution_count": 1,
   "metadata": {
    "id": "A7IaXd_Uvfhe"
   },
   "outputs": [
    {
     "name": "stdout",
     "output_type": "stream",
     "text": [
      "Enter a Sentence: Hard work is a key to achieving success.\n",
      "{1: ['a'], 2: ['is', 'to'], 3: ['key'], 4: ['Hard', 'work'], 7: ['success'], 9: ['achieving']}\n"
     ]
    }
   ],
   "source": [
    "sen = input(\"Enter a Sentence: \")\n",
    "\n",
    "sen = sen.replace(\",\",\"\")\n",
    "sen = sen.replace('.',\"\")\n",
    "sen = sen.split(' ')\n",
    "d = {}\n",
    "l1 = []\n",
    "l2 = []\n",
    "l = list(sorted(sen, key = len))\n",
    "\n",
    "for i in range(len(l)):\n",
    "    l2.append(len(l[i]))\n",
    "    if(len(l[i]) not in l1):\n",
    "        l1.append(len(l[i]))\n",
    "          \n",
    "m = max(l1)\n",
    "for i in range(m+1):\n",
    "    for j in range(len(l)):\n",
    "        if(i == len(l[j])):\n",
    "            if(i in d.keys()):\n",
    "                if(l[j] not in d[i]):\n",
    "                    d[i].append(l[j])\n",
    "            else:\n",
    "                d[i] = [l[j]]\n",
    "    \n",
    "print(d)\n",
    "\n",
    "\n"
   ]
  },
  {
   "cell_type": "markdown",
   "metadata": {
    "id": "vFdPiJGhvoRH"
   },
   "source": [
    "# Task 03"
   ]
  },
  {
   "cell_type": "code",
   "execution_count": 45,
   "metadata": {
    "id": "9B4Oa0eSvfhf"
   },
   "outputs": [
    {
     "name": "stdout",
     "output_type": "stream",
     "text": [
      "Enter multiple lines separated by , : This is CSE110 course, Programming is FUN, We love Python\n",
      "{1: (6, 9), 2: (5, 11), 3: (4, 8)}\n"
     ]
    }
   ],
   "source": [
    "lines = input(\"Enter multiple lines separated by , : \")\n",
    "\n",
    "lines = lines.lower()\n",
    "list_lines = lines.split(',')\n",
    "l = []\n",
    "d = {}\n",
    "cvow = 0\n",
    "ccons = 0\n",
    "for line in list_lines:\n",
    "    line = line.replace(\" \",\"\")\n",
    "    l.append(list(line))\n",
    "    \n",
    "for i in range (len(l)):\n",
    "    for j in range(len(l[i])):\n",
    "        if(l[i][j].isalpha()):\n",
    "            if(l[i][j]=='a' or l[i][j]=='e' or l[i][j]=='i' or l[i][j]=='o' or l[i][j]=='u'):\n",
    "                cvow+=1\n",
    "            else:\n",
    "                ccons+=1\n",
    "    d[i+1] = tuple([cvow, ccons])\n",
    "    cvow = 0\n",
    "    ccons = 0\n",
    "        \n",
    "print(d)\n",
    "\n",
    "\n",
    "\n"
   ]
  },
  {
   "cell_type": "markdown",
   "metadata": {
    "id": "172uYouqvfhe"
   },
   "source": [
    "Before submitting, save the file name in the following format:\n",
    "\n",
    "\n",
    "  ID_FullName_SectionNo_CSE110_final.ipynb)   \n",
    "  \n",
    "  example: 20201999_Navid_Ahmed_07_CSE110_final.ipynb"
   ]
  }
 ],
 "metadata": {
  "colab": {
   "collapsed_sections": [],
   "name": "CSE110_final_fall2020.ipynb",
   "provenance": []
  },
  "kernelspec": {
   "display_name": "Python 3",
   "language": "python",
   "name": "python3"
  },
  "language_info": {
   "codemirror_mode": {
    "name": "ipython",
    "version": 3
   },
   "file_extension": ".py",
   "mimetype": "text/x-python",
   "name": "python",
   "nbconvert_exporter": "python",
   "pygments_lexer": "ipython3",
   "version": "3.8.3"
  }
 },
 "nbformat": 4,
 "nbformat_minor": 1
}
