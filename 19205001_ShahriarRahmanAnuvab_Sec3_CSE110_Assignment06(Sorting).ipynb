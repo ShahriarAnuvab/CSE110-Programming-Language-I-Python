{
 "cells": [
  {
   "cell_type": "markdown",
   "metadata": {
    "id": "oMYzsTcnHEll"
   },
   "source": [
    "# CSE110 Assignment 6\n",
    "\n",
    "\n",
    "## Write the Python code of the following problems:\n",
    "**<font color='red'>[MUST MAINTAIN VARIABLE NAMING CONVENTIONS FOR ALL THE TASKS]</font>**"
   ]
  },
  {
   "cell_type": "markdown",
   "metadata": {
    "id": "jT-t2zlnHEll"
   },
   "source": [
    "### Task 1\n",
    "\n",
    "Given a list named my_list. <br/>\n",
    "my_list=[10,1,20,3,6,2,5,11,15,2,12,14,17,18,29] <br/>\n",
    "Now use bubble sort to sort my_list into ascending order.\n",
    "\n",
    "**Output**<br/>\n",
    "[1, 2, 2, 3, 5, 6, 10, 11, 12, 14, 15, 17, 18, 20, 29]"
   ]
  },
  {
   "cell_type": "code",
   "execution_count": null,
   "metadata": {
    "colab": {
     "base_uri": "https://localhost:8080/"
    },
    "id": "7qXVakLgHElm",
    "outputId": "bfd4f48a-b5e7-43aa-eaee-3138901c9da8"
   },
   "outputs": [
    {
     "name": "stdout",
     "output_type": "stream",
     "text": [
      "[1, 10, 3, 6, 2, 5, 11, 15, 2, 12, 14, 17, 18, 20, 29]\n",
      "[1, 3, 6, 2, 5, 10, 11, 2, 12, 14, 15, 17, 18, 20, 29]\n",
      "[1, 3, 2, 5, 6, 10, 2, 11, 12, 14, 15, 17, 18, 20, 29]\n",
      "[1, 2, 3, 5, 6, 2, 10, 11, 12, 14, 15, 17, 18, 20, 29]\n",
      "[1, 2, 3, 5, 2, 6, 10, 11, 12, 14, 15, 17, 18, 20, 29]\n",
      "[1, 2, 3, 2, 5, 6, 10, 11, 12, 14, 15, 17, 18, 20, 29]\n",
      "[1, 2, 2, 3, 5, 6, 10, 11, 12, 14, 15, 17, 18, 20, 29]\n",
      "[1, 2, 2, 3, 5, 6, 10, 11, 12, 14, 15, 17, 18, 20, 29]\n",
      "[1, 2, 2, 3, 5, 6, 10, 11, 12, 14, 15, 17, 18, 20, 29]\n",
      "[1, 2, 2, 3, 5, 6, 10, 11, 12, 14, 15, 17, 18, 20, 29]\n",
      "[1, 2, 2, 3, 5, 6, 10, 11, 12, 14, 15, 17, 18, 20, 29]\n",
      "[1, 2, 2, 3, 5, 6, 10, 11, 12, 14, 15, 17, 18, 20, 29]\n",
      "[1, 2, 2, 3, 5, 6, 10, 11, 12, 14, 15, 17, 18, 20, 29]\n",
      "[1, 2, 2, 3, 5, 6, 10, 11, 12, 14, 15, 17, 18, 20, 29]\n",
      "[1, 2, 2, 3, 5, 6, 10, 11, 12, 14, 15, 17, 18, 20, 29]\n"
     ]
    }
   ],
   "source": [
    "#todo - Bubble sort starts arranging the elements from the top\n",
    "my_list = [10,1,20,3,6,2,5,11,15,2,12,14,17,18,29]\n",
    "for idx1 in range(len(my_list) - 1):\n",
    "  for idx2 in range(0, len(my_list) - 1 - idx1):\n",
    "    if my_list[idx2] > my_list[idx2 + 1]:\n",
    "       temp = my_list[idx2]\n",
    "       my_list[idx2] = my_list[idx2 + 1]\n",
    "       my_list[idx2 + 1] = temp\n",
    "  print(my_list)\n",
    "print(my_list)\n"
   ]
  },
  {
   "cell_type": "markdown",
   "metadata": {
    "id": "w1QgeWd2HElp"
   },
   "source": [
    "### Task 2\n",
    "\n",
    "Given a list named my_list. <br/>\n",
    "my_list=[10,1,20,3,6,2,5,11,15,2,12,14,17,18,29] <br/>\n",
    "Now use selection sort to sort my_list into ascending order.\n",
    "\n",
    "**Output**<br/>\n",
    "[1, 2, 2, 3, 5, 6, 10, 11, 12, 14, 15, 17, 18, 20, 29]\n",
    "\n"
   ]
  },
  {
   "cell_type": "code",
   "execution_count": null,
   "metadata": {
    "colab": {
     "base_uri": "https://localhost:8080/"
    },
    "id": "am0B_8ICHElq",
    "outputId": "09b1b568-37d3-474c-f56a-b0f99d3543c2"
   },
   "outputs": [
    {
     "name": "stdout",
     "output_type": "stream",
     "text": [
      "[1, 10, 20, 3, 6, 2, 5, 11, 15, 2, 12, 14, 17, 18, 29]\n",
      "[1, 2, 20, 3, 6, 10, 5, 11, 15, 2, 12, 14, 17, 18, 29]\n",
      "[1, 2, 2, 3, 6, 10, 5, 11, 15, 20, 12, 14, 17, 18, 29]\n",
      "[1, 2, 2, 3, 6, 10, 5, 11, 15, 20, 12, 14, 17, 18, 29]\n",
      "[1, 2, 2, 3, 5, 10, 6, 11, 15, 20, 12, 14, 17, 18, 29]\n",
      "[1, 2, 2, 3, 5, 6, 10, 11, 15, 20, 12, 14, 17, 18, 29]\n",
      "[1, 2, 2, 3, 5, 6, 10, 11, 15, 20, 12, 14, 17, 18, 29]\n",
      "[1, 2, 2, 3, 5, 6, 10, 11, 15, 20, 12, 14, 17, 18, 29]\n",
      "[1, 2, 2, 3, 5, 6, 10, 11, 12, 20, 15, 14, 17, 18, 29]\n",
      "[1, 2, 2, 3, 5, 6, 10, 11, 12, 14, 15, 20, 17, 18, 29]\n",
      "[1, 2, 2, 3, 5, 6, 10, 11, 12, 14, 15, 20, 17, 18, 29]\n",
      "[1, 2, 2, 3, 5, 6, 10, 11, 12, 14, 15, 17, 20, 18, 29]\n",
      "[1, 2, 2, 3, 5, 6, 10, 11, 12, 14, 15, 17, 18, 20, 29]\n",
      "[1, 2, 2, 3, 5, 6, 10, 11, 12, 14, 15, 17, 18, 20, 29]\n",
      "[1, 2, 2, 3, 5, 6, 10, 11, 12, 14, 15, 17, 18, 20, 29]\n"
     ]
    }
   ],
   "source": [
    "#todo Selection sort starts arranging the elements from the bottom\n",
    "my_list = [10,1,20,3,6,2,5,11,15,2,12,14,17,18,29]\n",
    "for idx1 in range(len(my_list)- 1):\n",
    "  min_index  = idx1\n",
    "  for idx2 in range(idx1 + 1, len(my_list)):\n",
    "    if my_list[idx2] < my_list[min_index]:\n",
    "      min_index = idx2\n",
    "  temp = my_list[idx1]\n",
    "  my_list[idx1] = my_list[min_index]\n",
    "  my_list[min_index] = temp\n",
    "  print(my_list)\n",
    "print(my_list)"
   ]
  },
  {
   "cell_type": "markdown",
   "metadata": {
    "id": "j4ffr2CAHElt"
   },
   "source": [
    "### Task  3\n",
    "\n",
    "Given a list named my_list. <br/>\n",
    "my_list=[10,1,20,3,6,2,5,11,15,2,12,14,17,18,29] <br/>\n",
    "Now use any of the two sorts used above to sort the list in descending order.\n",
    "\n",
    "**Output**<br/>\n",
    "[29, 20, 18, 17, 15, 14, 12, 11, 10, 6, 5, 3, 2, 2, 1]\n"
   ]
  },
  {
   "cell_type": "code",
   "execution_count": 1,
   "metadata": {
    "colab": {
     "base_uri": "https://localhost:8080/"
    },
    "id": "n2X3YR-_HElt",
    "outputId": "96132fcf-91ad-4fb7-ac2c-5232b22c1b78"
   },
   "outputs": [
    {
     "name": "stdout",
     "output_type": "stream",
     "text": [
      "[29, 1, 20, 3, 6, 2, 5, 11, 15, 2, 12, 14, 17, 18, 10]\n",
      "[29, 20, 1, 3, 6, 2, 5, 11, 15, 2, 12, 14, 17, 18, 10]\n",
      "[29, 20, 18, 3, 6, 2, 5, 11, 15, 2, 12, 14, 17, 1, 10]\n",
      "[29, 20, 18, 17, 6, 2, 5, 11, 15, 2, 12, 14, 3, 1, 10]\n",
      "[29, 20, 18, 17, 15, 2, 5, 11, 6, 2, 12, 14, 3, 1, 10]\n",
      "[29, 20, 18, 17, 15, 14, 5, 11, 6, 2, 12, 2, 3, 1, 10]\n",
      "[29, 20, 18, 17, 15, 14, 12, 11, 6, 2, 5, 2, 3, 1, 10]\n",
      "[29, 20, 18, 17, 15, 14, 12, 11, 6, 2, 5, 2, 3, 1, 10]\n",
      "[29, 20, 18, 17, 15, 14, 12, 11, 10, 2, 5, 2, 3, 1, 6]\n",
      "[29, 20, 18, 17, 15, 14, 12, 11, 10, 6, 5, 2, 3, 1, 2]\n",
      "[29, 20, 18, 17, 15, 14, 12, 11, 10, 6, 5, 2, 3, 1, 2]\n",
      "[29, 20, 18, 17, 15, 14, 12, 11, 10, 6, 5, 3, 2, 1, 2]\n",
      "[29, 20, 18, 17, 15, 14, 12, 11, 10, 6, 5, 3, 2, 1, 2]\n",
      "[29, 20, 18, 17, 15, 14, 12, 11, 10, 6, 5, 3, 2, 2, 1]\n",
      "[29, 20, 18, 17, 15, 14, 12, 11, 10, 6, 5, 3, 2, 2, 1]\n"
     ]
    }
   ],
   "source": [
    "# Selection sort starts arranging the elements from the bottom\n",
    "my_list = [10,1,20,3,6,2,5,11,15,2,12,14,17,18,29]\n",
    "for idx1 in range(len(my_list)- 1):\n",
    "  min_index  = idx1\n",
    "  for idx2 in range(idx1 + 1, len(my_list)):\n",
    "    if my_list[idx2] > my_list[min_index]:\n",
    "      min_index = idx2\n",
    "  temp = my_list[idx1]\n",
    "  my_list[idx1] = my_list[min_index]\n",
    "  my_list[min_index] = temp\n",
    "  print(my_list)\n",
    "print(my_list)"
   ]
  },
  {
   "cell_type": "markdown",
   "metadata": {
    "id": "9iYiiTWWHElw"
   },
   "source": [
    "### Task 4\n",
    "\n",
    "Suppose you have a sitting arrangement of the students of the final exam in a list. The list contains the last two digits of their roll number.<br/>\n",
    "\n",
    "sitting_list=[10,30,20,70,11,15,22,16,58,100,12,56,70,80] <br/>\n",
    "\n",
    "Now you want to organize the sitting arrangement. You decided to sort all the students in the even indices into ascending order and all the students in the odd indices  into descending order.  <br/>\n",
    "\n",
    "So write a python program that organizes the list for you the way you decided.<br/>\n",
    "\n",
    "\n",
    "**Sample Output**<br/>\n",
    "[10, 100, 11, 80, 12, 70, 20, 56, 22, 30, 58, 16, 70, 15]"
   ]
  },
  {
   "cell_type": "code",
   "execution_count": 2,
   "metadata": {
    "colab": {
     "base_uri": "https://localhost:8080/"
    },
    "id": "nPdUAKDJHElw",
    "outputId": "13bf6f67-de89-4910-f1df-2f842400c02d"
   },
   "outputs": [
    {
     "name": "stdout",
     "output_type": "stream",
     "text": [
      "[10, 70, 11, 30, 20, 16, 22, 100, 12, 56, 58, 80, 70, 15]\n",
      "[10, 70, 11, 30, 20, 100, 12, 56, 22, 80, 58, 16, 70, 15]\n",
      "[10, 70, 11, 100, 12, 56, 20, 80, 22, 30, 58, 16, 70, 15]\n",
      "[10, 100, 11, 70, 12, 80, 20, 56, 22, 30, 58, 16, 70, 15]\n",
      "[10, 100, 11, 80, 12, 70, 20, 56, 22, 30, 58, 16, 70, 15]\n",
      "[10, 100, 11, 80, 12, 70, 20, 56, 22, 30, 58, 16, 70, 15]\n",
      "[10, 100, 11, 80, 12, 70, 20, 56, 22, 30, 58, 16, 70, 15]\n",
      "[10, 100, 11, 80, 12, 70, 20, 56, 22, 30, 58, 16, 70, 15]\n",
      "[10, 100, 11, 80, 12, 70, 20, 56, 22, 30, 58, 16, 70, 15]\n",
      "[10, 100, 11, 80, 12, 70, 20, 56, 22, 30, 58, 16, 70, 15]\n",
      "[10, 100, 11, 80, 12, 70, 20, 56, 22, 30, 58, 16, 70, 15]\n",
      "[10, 100, 11, 80, 12, 70, 20, 56, 22, 30, 58, 16, 70, 15]\n",
      "[10, 100, 11, 80, 12, 70, 20, 56, 22, 30, 58, 16, 70, 15]\n",
      "[10, 100, 11, 80, 12, 70, 20, 56, 22, 30, 58, 16, 70, 15]\n",
      "[10, 100, 11, 80, 12, 70, 20, 56, 22, 30, 58, 16, 70, 15]\n"
     ]
    }
   ],
   "source": [
    "my_list = [10,30,20,70,11,15,22,16,58,100,12,56,70,80]\n",
    "for idx1 in range(len(my_list)):\n",
    "  for idx2 in range(0, len(my_list) - 2 - idx1,2):\n",
    "    if my_list[idx2] > my_list[idx2 + 2]:\n",
    "       temp = my_list[idx2]\n",
    "       my_list[idx2] = my_list[idx2 + 2]\n",
    "       my_list[idx2 + 2] = temp\n",
    "  for idx2 in range(1, len(my_list) - 2 - idx1,2):\n",
    "    if my_list[idx2] < my_list[idx2 + 2]:\n",
    "       temp = my_list[idx2]\n",
    "       my_list[idx2] = my_list[idx2 + 2]\n",
    "       my_list[idx2 + 2] = temp\n",
    "  #print(my_list)\n",
    "print(my_list)"
   ]
  },
  {
   "cell_type": "markdown",
   "metadata": {
    "id": "oVR1Tsa0HElz"
   },
   "source": [
    "### Task 5\n",
    "\n",
    "Suppose a list contains the final exam results of CSE110, PHY111, and MAT110 of each student in a listed form. Your task is to sort the list based on a course name that will be given by the user and print the names after sorting. <br/>\n",
    "\n",
    "For example, a list looks like <br/>\n",
    "lst = [ [\"Farzad\",95,87,91] , [\"Mahjabin\",92,90,83], [\"Sadman\",87,92,80], [\"Nakhla\",85,94,90] ] <br/>\n",
    "where for each list, 1st index is name, 2nd index is CSE110, 3rd index is PHY111 and 4th index is MAT110. \n",
    "\n",
    "=====================================================\n",
    "\n",
    "**Hint:**<br/>\n",
    "create a function for sorting, then call it everytime instead of rewriting the code.\n",
    "\n",
    "Get the data in the individual lists from the given nested list.\n",
    "\n",
    "=====================================================\n",
    "\n",
    "**Sample Input**<br/>\n",
    "MAT110\n",
    "\n",
    "**Sample Output**<br/>\n",
    "Farzad <br/>\n",
    "Nakhla <br/>\n",
    "Mahjabin <br/>\n",
    "Sadman\n",
    "\n",
    "\n"
   ]
  },
  {
   "cell_type": "code",
   "execution_count": 4,
   "metadata": {
    "colab": {
     "base_uri": "https://localhost:8080/"
    },
    "id": "539b2P1NHElz",
    "outputId": "51c5afb6-1b1e-45c6-a772-9cec4f370ff9"
   },
   "outputs": [
    {
     "name": "stdout",
     "output_type": "stream",
     "text": [
      "Enter Course Name: MATH110\n",
      "Farzad\n",
      "Nakhla\n",
      "Mahjabin\n",
      "Sadman\n"
     ]
    }
   ],
   "source": [
    "def sort(my_list):\n",
    "  for idx1 in range(len(my_list) - 1):\n",
    "    for idx2 in range(0, len(my_list) - 1 - idx1):\n",
    "      if my_list[idx2] < my_list[idx2 + 1]:\n",
    "        temp = my_list[idx2]\n",
    "        my_list[idx2] = my_list[idx2 + 1]\n",
    "        my_list[idx2 + 1] = temp \n",
    "  return(my_list)\n",
    "lst = [ [\"Farzad\",95,87,91] , [\"Mahjabin\",92,90,83], [\"Sadman\",87,92,80], [\"Nakhla\",85,94,90] ]\n",
    "d={}\n",
    "cse=[]\n",
    "phy=[]\n",
    "math=[]\n",
    "\n",
    "for i in range(0,4):\n",
    "  d[lst[i][0]] = lst[i][1:]\n",
    "#print(d)\n",
    "#print(d['Farzad'][0])\n",
    "for j in range(0,len(lst)):\n",
    "  cse.append(lst[j][1])\n",
    "  phy.append(lst[j][2])\n",
    "  math.append(lst[j][3])\n",
    "#print(cse,phy,math)\n",
    "CSE110 = sort(cse)\n",
    "PHY111 = sort(phy)\n",
    "MATH110 = sort(math)\n",
    "sub = input(\"Enter Course Name: \")\n",
    "if(sub ==\"CSE110\"):\n",
    "  for m in CSE110:\n",
    "    for x,y in d.items():\n",
    "      if(m ==y[0]):\n",
    "        print(x)\n",
    "        break\n",
    "elif(sub ==\"PHY111\"):\n",
    "  for m in PHY111:\n",
    "    for x,y in d.items():\n",
    "      if(m ==y[1]):\n",
    "        print(x)\n",
    "        break  \n",
    "elif(sub ==\"MATH110\"):\n",
    "  for m in MATH110:\n",
    "    #print(m)\n",
    "    for x,y in d.items():\n",
    "      if(m ==y[2]):\n",
    "        print(x)\n",
    "        break  "
   ]
  },
  {
   "cell_type": "markdown",
   "metadata": {
    "id": "B0Rqbyi4HEl2"
   },
   "source": [
    "### Task 6\n",
    "\n",
    "Suppose you have a list named my_list. Your task is to sort the list and print the count of numbers that have changed their position. <br/>\n",
    "my_list = [4,2,3,1,6,5] <br/>\n",
    "Sorted list would be [1,2,3,4,5,6] where 4 numbers have changed their position.\n",
    "\n",
    "\n",
    "**Sample Output**<br/>\n",
    "4"
   ]
  },
  {
   "cell_type": "code",
   "execution_count": 5,
   "metadata": {
    "colab": {
     "base_uri": "https://localhost:8080/"
    },
    "id": "AMc8jAa7HEl2",
    "outputId": "e435cdc3-9a5e-4233-c079-8833ea6a84c8"
   },
   "outputs": [
    {
     "name": "stdout",
     "output_type": "stream",
     "text": [
      "4\n"
     ]
    }
   ],
   "source": [
    "#todo Selection sort starts arranging the elements from the bottom\n",
    "def sort(my_list):\n",
    "  for idx1 in range(0,len(my_list)-1):\n",
    "    min_index  = idx1\n",
    "    for idx2 in range(idx1 + 1, len(my_list)):\n",
    "      if my_list[idx2] < my_list[min_index]:\n",
    "        min_index = idx2\n",
    "    temp = my_list[idx1]\n",
    "    my_list[idx1] = my_list[min_index]\n",
    "    my_list[min_index] = temp\n",
    "  return(my_list)\n",
    "lst1 = [4,2,3,1,6,5]\n",
    "#lst = [3,7,1,2,5,4]\n",
    "lst2=tuple(lst1)\n",
    "count = 0\n",
    "s_list = sort(lst1)\n",
    "#print(lst2)\n",
    "#print(s_list)\n",
    "for k in range(0,len(s_list)):\n",
    "  if(s_list[k] != lst2[k]):\n",
    "      count+=1\n",
    "print(count)\n"
   ]
  },
  {
   "cell_type": "markdown",
   "metadata": {
    "id": "iIH5n0sJHEl5"
   },
   "source": [
    "### Task 7\n",
    "\n",
    "Write a python program that takes two lists from the user, merges the two lists, sorts the list, and find the median of the elements of the two lists.\n",
    "\n",
    "=====================================================\n",
    "\n",
    "\n",
    "**Sample Input 1**<br/>\n",
    "list_one = [1,2,1,4] <br/>\n",
    "list_two = [5,4,1]\n",
    "\n",
    "\n",
    "**Sample Output 1**<br/>\n",
    "Sorted list = [1, 1, 1, 2, 4, 4, 5] <br/>\n",
    "Median = 2\n",
    "\n",
    "=====================================================\n",
    "\n",
    "\n",
    "**Sample Input 2**<br/>\n",
    "list_one= [1,7,9,10] <br/>\n",
    "list_two= [2,7,6,5]\n",
    "\n",
    "\n",
    "**Sample Output 2**<br/>\n",
    "Sorted list=[1, 2, 5, 6, 7, 7, 9, 10] <br/>\n",
    "Median=6.5\n",
    "\n"
   ]
  },
  {
   "cell_type": "code",
   "execution_count": 3,
   "metadata": {
    "colab": {
     "base_uri": "https://localhost:8080/"
    },
    "id": "KsFxC7XbHEl6",
    "outputId": "9be0eae9-d588-4c6f-9f43-3e548aca5543"
   },
   "outputs": [
    {
     "name": "stdout",
     "output_type": "stream",
     "text": [
      "Sorted List= [1, 1, 1, 2, 4, 4, 5]\n",
      "Median = 2\n"
     ]
    }
   ],
   "source": [
    "def sort(my_list):\n",
    "  for idx1 in range(0,len(my_list)-1):\n",
    "    min_index  = idx1\n",
    "    for idx2 in range(idx1 + 1, len(my_list)):\n",
    "      if my_list[idx2] < my_list[min_index]:\n",
    "        min_index = idx2\n",
    "    temp = my_list[idx1]\n",
    "    my_list[idx1] = my_list[min_index]\n",
    "    my_list[min_index] = temp\n",
    "  return(my_list)\n",
    "list_one= [1,2,1,4]\n",
    "list_two= [5,4,1]\n",
    "lst = list_one+list_two\n",
    "sorted_list = sort(lst)\n",
    "print(\"Sorted List=\", sorted_list)\n",
    "if(len(sorted_list)%2==0):\n",
    "  median = (sorted_list[len(sorted_list)//2]+sorted_list[(len(sorted_list)//2)-1])/2\n",
    "else:\n",
    "  median = sorted_list[len(sorted_list)//2]\n",
    "print(\"Median =\",median)"
   ]
  },
  {
   "cell_type": "markdown",
   "metadata": {
    "id": "-XKiwBR1HEl8"
   },
   "source": [
    "### Task 8\n",
    "\n",
    "\n",
    "Write a python program that takes a list from user containing both positive and negative numbers. The program then finds two pairs of values whose summation is closest to zero.\n",
    "\n",
    "=====================================================\n",
    "\n",
    "**Sample Input 1**<br/>\n",
    "list_one = [-10,15,2,4,-4,7,-8] \n",
    "\n",
    "\n",
    "**Sample Output 1**<br/>\n",
    "Two pairs which have the smallest sum = 4 and -4\n",
    "\n",
    "=====================================================\n",
    "\n",
    "\n",
    "**Sample Input 2**<br/>\n",
    "list_one = [1,-8,4,-7,-20,26,70,-85]\n",
    "\n",
    "\n",
    "**Sample Output 2**<br/>\n",
    "Two pairs which have the smallest sum = 4 and -7"
   ]
  },
  {
   "cell_type": "code",
   "execution_count": 1,
   "metadata": {
    "colab": {
     "base_uri": "https://localhost:8080/"
    },
    "id": "5ORSGa5GHEl9",
    "outputId": "5c15b802-9261-43f6-945b-2ee6525e93af"
   },
   "outputs": [
    {
     "name": "stdout",
     "output_type": "stream",
     "text": [
      "Two pairs which have the smallest sum =  4 and -7\n"
     ]
    }
   ],
   "source": [
    "list_one = [1,-8,4,-7,-20,26,70,-85]\n",
    "list_sumN = []\n",
    "list_sumP = []\n",
    "d = {}\n",
    "for i in range(0,len(list_one)):\n",
    "  for j in range(i+1,len(list_one)):\n",
    "    sum = list_one[i]+list_one[j]\n",
    "    if(sum<0):\n",
    "      list_sumN.append(sum)\n",
    "    else:\n",
    "      list_sumP.append(sum) \n",
    "    d[sum]=[list_one[i],list_one[j]]\n",
    "    #print(list_sum)\n",
    "    #print(d)\n",
    "\n",
    "sorted_sumN = sorted(list_sumN)\n",
    "sorted_sumP = sorted(list_sumP)\n",
    "#print(sorted_sumN)\n",
    "#print(sorted_sumP)\n",
    "if(0-sorted_sumN[len(sorted_sumN)-1]<sorted_sumP[0]):\n",
    "  for x,y in d.items():\n",
    "    if(sorted_sumN[len(sorted_sumN)-1]==x):\n",
    "      min = y\n",
    "else:\n",
    "  for x,y in d.items():\n",
    "    if(sorted_sumP[0]==x):\n",
    "      min = y\n",
    "l,h = min\n",
    "\n",
    "print(\"Two pairs which have the smallest sum = \",l,\"and\",h)\n"
   ]
  },
  {
   "cell_type": "code",
   "execution_count": null,
   "metadata": {},
   "outputs": [],
   "source": []
  }
 ],
 "metadata": {
  "colab": {
   "collapsed_sections": [],
   "name": "CSE110 Assignment06 Solved(Sorting).ipynb",
   "provenance": []
  },
  "kernelspec": {
   "display_name": "Python 3",
   "language": "python",
   "name": "python3"
  },
  "language_info": {
   "codemirror_mode": {
    "name": "ipython",
    "version": 3
   },
   "file_extension": ".py",
   "mimetype": "text/x-python",
   "name": "python",
   "nbconvert_exporter": "python",
   "pygments_lexer": "ipython3",
   "version": "3.8.3"
  }
 },
 "nbformat": 4,
 "nbformat_minor": 1
}
